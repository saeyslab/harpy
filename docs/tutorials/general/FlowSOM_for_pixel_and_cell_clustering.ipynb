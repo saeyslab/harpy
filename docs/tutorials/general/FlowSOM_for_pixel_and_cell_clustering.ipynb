{
 "cells": [
  {
   "cell_type": "markdown",
   "metadata": {},
   "source": [
    "# Run FlowSOM for pixel and cell clustering"
   ]
  },
  {
   "cell_type": "code",
   "execution_count": null,
   "metadata": {},
   "outputs": [],
   "source": [
    "%load_ext autoreload\n",
    "%autoreload 2\n",
    "\n",
    "import harpy as hp\n",
    "from harpy.datasets import pixie_example\n",
    "from harpy.utils._keys import ClusteringKey"
   ]
  },
  {
   "cell_type": "markdown",
   "metadata": {},
   "source": [
    "## Load example dataset"
   ]
  },
  {
   "cell_type": "code",
   "execution_count": null,
   "metadata": {},
   "outputs": [],
   "source": [
    "sdata_ark_analysis = pixie_example([\"fov0\", \"fov1\"])\n",
    "sdata_ark_analysis"
   ]
  },
  {
   "cell_type": "code",
   "execution_count": 16,
   "metadata": {},
   "outputs": [],
   "source": [
    "channels = [\n",
    "    \"CD3\",\n",
    "    \"CD4\",\n",
    "    \"CD8\",\n",
    "    \"CD14\",\n",
    "    \"CD20\",\n",
    "    \"CD31\",\n",
    "    \"CD45\",\n",
    "    \"CD68\",\n",
    "    \"CD163\",\n",
    "    \"CK17\",\n",
    "    \"Collagen1\",\n",
    "    \"Fibronectin\",\n",
    "    \"ECAD\",\n",
    "    \"HLADR\",\n",
    "    \"SMA\",\n",
    "    \"Vim\",\n",
    "]"
   ]
  },
  {
   "cell_type": "markdown",
   "metadata": {},
   "source": [
    "## Preprocess"
   ]
  },
  {
   "cell_type": "code",
   "execution_count": null,
   "metadata": {},
   "outputs": [],
   "source": [
    "sdata_ark_analysis = hp.im.pixel_clustering_preprocess(\n",
    "    sdata_ark_analysis,\n",
    "    img_layer=[\"raw_image_fov0\", \"raw_image_fov1\"],\n",
    "    output_layer=[\"raw_image_fov0_processed\", \"raw_image_fov1_processed\"],\n",
    "    channels=channels,\n",
    "    chunks=2048,\n",
    "    persist_intermediate=True, # set to False if you have multiple images, and if they are large.\n",
    "    overwrite=True,\n",
    "    sigma=2.0,\n",
    ")\n",
    "sdata_ark_analysis"
   ]
  },
  {
   "cell_type": "markdown",
   "metadata": {},
   "source": [
    "## Pixel clustering"
   ]
  },
  {
   "cell_type": "code",
   "execution_count": null,
   "metadata": {},
   "outputs": [],
   "source": [
    "import flowsom as fs\n",
    "from dask.distributed import Client, LocalCluster\n",
    "\n",
    "work_with_client = False\n",
    "\n",
    "if work_with_client:\n",
    "    # client example\n",
    "    cluster = LocalCluster(\n",
    "        n_workers=1,\n",
    "        threads_per_worker=10,\n",
    "    )\n",
    "\n",
    "    client = Client(cluster)\n",
    "else:\n",
    "    client = None\n",
    "\n",
    "batch_model=fs.models.BatchFlowSOMEstimator\n",
    "\n",
    "sdata_ark_analysis, fsom, mapping = hp.im.flowsom(\n",
    "    sdata_ark_analysis,\n",
    "    img_layer=[ \"raw_image_fov0_processed\", \"raw_image_fov1_processed\" ],\n",
    "    output_layer_clusters=[\n",
    "        \"raw_image_fov0_flowsom_clusters\",\n",
    "        \"raw_image_fov1_flowsom_clusters\",\n",
    "    ],  # we need output_cluster_layer and output_meta_cluster_layer --> these will both be labels layers\n",
    "    output_layer_metaclusters=[\n",
    "        \"raw_image_fov0_flowsom_metaclusters\",\n",
    "        \"raw_image_fov1_flowsom_metaclusters\",\n",
    "        ],\n",
    "    n_clusters=20,\n",
    "    random_state=111,\n",
    "    chunks=512,\n",
    "    client = client,\n",
    "    model = batch_model,\n",
    "    num_batches = 10,\n",
    "    xdim=10,\n",
    "    ydim=10,\n",
    "    z_score=True,\n",
    "    z_cap=3,\n",
    "    persist_intermediate=True,\n",
    "    overwrite=True,\n",
    ")\n",
    "sdata_ark_analysis"
   ]
  },
  {
   "cell_type": "code",
   "execution_count": null,
   "metadata": {},
   "outputs": [],
   "source": [
    "sdata_ark_analysis = hp.tb.cluster_intensity(\n",
    "    sdata_ark_analysis,\n",
    "    mapping=mapping,\n",
    "    img_layer=[\"raw_image_fov0_processed\", \"raw_image_fov1_processed\"],\n",
    "    labels_layer=[\"raw_image_fov0_flowsom_clusters\", \"raw_image_fov1_flowsom_clusters\"],\n",
    "    to_coordinate_system=[ \"fov0\", \"fov1\" ],\n",
    "    output_layer=\"counts_clusters\",\n",
    "    overwrite=True,\n",
    ")\n",
    "sdata_ark_analysis"
   ]
  },
  {
   "cell_type": "markdown",
   "metadata": {},
   "source": [
    "## Visualization of pixel clusters and metaclusters."
   ]
  },
  {
   "cell_type": "code",
   "execution_count": null,
   "metadata": {},
   "outputs": [],
   "source": [
    "hp.pl.pixel_clusters(\n",
    "    sdata_ark_analysis,\n",
    "    labels_layer=\"raw_image_fov0_flowsom_metaclusters\",\n",
    "    figsize=(5, 5),\n",
    "    to_coordinate_system=\"fov0\",\n",
    "    render_labels_kwargs={ \"alpha\":1 }\n",
    ")"
   ]
  },
  {
   "cell_type": "markdown",
   "metadata": {},
   "source": [
    "## Heatmap of channel intensity per cluster and metacluster"
   ]
  },
  {
   "cell_type": "code",
   "execution_count": null,
   "metadata": {},
   "outputs": [],
   "source": [
    "for _metaclusters in [True, False]:\n",
    "    hp.pl.pixel_clusters_heatmap(\n",
    "        sdata_ark_analysis,\n",
    "        table_layer=\"counts_clusters\",\n",
    "        figsize=(8, 8),\n",
    "        fig_kwargs={\"dpi\": 100},\n",
    "        linewidths=0.001,\n",
    "        metaclusters=_metaclusters,\n",
    "        z_score=True,\n",
    "    )"
   ]
  },
  {
   "cell_type": "markdown",
   "metadata": {},
   "source": [
    "## Cell clustering"
   ]
  },
  {
   "cell_type": "code",
   "execution_count": null,
   "metadata": {},
   "outputs": [],
   "source": [
    "batch_model=fs.models.BatchFlowSOMEstimator\n",
    "\n",
    "sdata_ark_analysis, fsom = hp.tb.flowsom(\n",
    "    sdata_ark_analysis,\n",
    "    labels_layer_cells=[\"label_whole_fov0\", \"label_whole_fov1\"],\n",
    "    labels_layer_clusters=[\n",
    "        \"raw_image_fov0_flowsom_metaclusters\",\n",
    "        \"raw_image_fov1_flowsom_metaclusters\",\n",
    "    ],  # here you could also choose \"ark_pixel_som_cluster\"\n",
    "    output_layer=\"table_cell_clustering_flowsom\",\n",
    "    chunks=512,\n",
    "    model = batch_model,\n",
    "    num_batches = 10,\n",
    "    random_state=100,\n",
    "    overwrite=True,\n",
    ")\n",
    "sdata_ark_analysis"
   ]
  },
  {
   "cell_type": "markdown",
   "metadata": {},
   "source": [
    "## Optional export to a .csv format that can be used for visualization using the ark gui"
   ]
  },
  {
   "cell_type": "code",
   "execution_count": null,
   "metadata": {},
   "outputs": [],
   "source": [
    "# weighted channel average for visualization -> calculate this on the flowsom clustered matrix\n",
    "sdata_ark_analysis = hp.tb.weighted_channel_expression(\n",
    "    sdata_ark_analysis,\n",
    "    table_layer_cell_clustering=\"table_cell_clustering_flowsom\",\n",
    "    table_layer_pixel_cluster_intensity=\"counts_clusters\",\n",
    "    output_layer=\"table_cell_clustering_flowsom\",\n",
    "    clustering_key=ClusteringKey._METACLUSTERING_KEY,\n",
    "    overwrite=True,\n",
    ")\n",
    "sdata_ark_analysis"
   ]
  },
  {
   "cell_type": "code",
   "execution_count": null,
   "metadata": {},
   "outputs": [],
   "source": [
    "from harpy.table.cell_clustering._utils import _export_to_ark_format as _export_to_ark_format_cells\n",
    "from harpy.table.pixel_clustering._cluster_intensity import _export_to_ark_format as _export_to_ark_format_pixels\n",
    "\n",
    "df = _export_to_ark_format_pixels(adata=sdata_ark_analysis[\"counts_clusters\"], output=None)\n",
    "(\n",
    "    df_cell_som_cluster_count_avg,\n",
    "    df_cell_som_cluster_channel_avg,\n",
    "    df_cell_meta_cluster_channel_avg,\n",
    ") = _export_to_ark_format_cells(sdata_ark_analysis, table_layer=\"table_cell_clustering_flowsom\", output=None)\n",
    "df"
   ]
  },
  {
   "cell_type": "code",
   "execution_count": null,
   "metadata": {},
   "outputs": [],
   "source": [
    "df_cell_meta_cluster_channel_avg"
   ]
  },
  {
   "cell_type": "code",
   "execution_count": null,
   "metadata": {},
   "outputs": [],
   "source": [
    "# \"table_cell_clustering_flowsom\" is annotated by segmentation masks, so they can be visualised using napari-spatialdata\n",
    "sdata_ark_analysis[ \"table_cell_clustering_flowsom\" ].uns[ \"spatialdata_attrs\" ]\n",
    "\n",
    "#from napari_spatialdata import Interactive\n",
    "\n",
    "#Interactive(sdata_ark_analysis)"
   ]
  }
 ],
 "metadata": {
  "kernelspec": {
   "display_name": "harpy",
   "language": "python",
   "name": "python3"
  },
  "language_info": {
   "codemirror_mode": {
    "name": "ipython",
    "version": 3
   },
   "file_extension": ".py",
   "mimetype": "text/x-python",
   "name": "python",
   "nbconvert_exporter": "python",
   "pygments_lexer": "ipython3",
   "version": "3.10.8"
  }
 },
 "nbformat": 4,
 "nbformat_minor": 2
}
