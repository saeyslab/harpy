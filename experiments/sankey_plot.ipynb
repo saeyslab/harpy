{
 "cells": [
  {
   "cell_type": "code",
   "execution_count": 5,
   "metadata": {},
   "outputs": [
    {
     "name": "stdout",
     "output_type": "stream",
     "text": [
      "The autoreload extension is already loaded. To reload it, use:\n",
      "  %reload_ext autoreload\n"
     ]
    }
   ],
   "source": [
    "%load_ext autoreload\n",
    "%autoreload 2\n",
    "\n",
    "import warnings\n",
    "from itertools import chain\n",
    "from typing import List, Optional, Tuple\n",
    "\n",
    "import cv2\n",
    "import geopandas\n",
    "import matplotlib\n",
    "import matplotlib.colors as mpl\n",
    "import matplotlib.pyplot as plt\n",
    "import numpy as np\n",
    "import pandas as pd\n",
    "import rasterio\n",
    "import scanpy as sc\n",
    "import seaborn as sns\n",
    "import shapely\n",
    "import squidpy as sq\n",
    "import torch\n",
    "from anndata import AnnData\n",
    "from basicpy import BaSiC\n",
    "from cellpose import models\n",
    "from rasterio import features\n",
    "from scipy import ndimage\n",
    "import plotly.graph_objects as go"
   ]
  },
  {
   "cell_type": "code",
   "execution_count": 6,
   "metadata": {},
   "outputs": [],
   "source": [
    "from napari_sparrow import functions as fc"
   ]
  },
  {
   "cell_type": "code",
   "execution_count": 7,
   "metadata": {},
   "outputs": [],
   "source": [
    "path_mg = \"../data/resolve_liver/markerGeneListMartinNoLow.csv\"\n",
    "path_adata_case = \"../data/resolve_liver/A1-1_baysor/\"\n",
    "path_adata_ctrl = \"../data/resolve_liver/A1-1_cellpose/\"\n",
    "\n",
    "# To use clean_celltypes, put clean = True\n",
    "clean = True\n",
    "if clean:\n",
    "    celltypes = \"clean_celltypes\"\n",
    "else:\n",
    "    celltypes = \"maxScores\"\n",
    "\n",
    "# Set number of genes to filter in the plot\n",
    "filter_genes = 10"
   ]
  },
  {
   "cell_type": "code",
   "execution_count": 8,
   "metadata": {},
   "outputs": [
    {
     "name": "stderr",
     "output_type": "stream",
     "text": [
      "/opt/homebrew/Caskroom/miniconda/base/envs/napari-sparrow/lib/python3.10/site-packages/anndata/_core/anndata.py:121: ImplicitModificationWarning: Transforming to str index.\n",
      "  warnings.warn(\"Transforming to str index.\", ImplicitModificationWarning)\n"
     ]
    },
    {
     "ename": "FileNotFoundError",
     "evalue": "[Errno 2] Unable to open file (unable to open file: name = '../data.nosync/resolve_liver/A1-1_cellpose/adata.h5ad', errno = 2, error message = 'No such file or directory', flags = 0, o_flags = 0)",
     "output_type": "error",
     "traceback": [
      "\u001b[0;31m---------------------------------------------------------------------------\u001b[0m",
      "\u001b[0;31mFileNotFoundError\u001b[0m                         Traceback (most recent call last)",
      "Cell \u001b[0;32mIn[8], line 14\u001b[0m\n\u001b[1;32m     11\u001b[0m     \u001b[39mreturn\u001b[39;00m adata\n\u001b[1;32m     13\u001b[0m adata_case \u001b[39m=\u001b[39m adata_from_h5ad_geojson(path_adata_case)\n\u001b[0;32m---> 14\u001b[0m adata_ctrl \u001b[39m=\u001b[39m adata_from_h5ad_geojson(path_adata_ctrl)\n",
      "Cell \u001b[0;32mIn[8], line 5\u001b[0m, in \u001b[0;36madata_from_h5ad_geojson\u001b[0;34m(path)\u001b[0m\n\u001b[1;32m      2\u001b[0m path_h5ad \u001b[39m=\u001b[39m path \u001b[39m+\u001b[39m \u001b[39m\"\u001b[39m\u001b[39madata.h5ad\u001b[39m\u001b[39m\"\u001b[39m\n\u001b[1;32m      3\u001b[0m path_geojson \u001b[39m=\u001b[39m path \u001b[39m+\u001b[39m \u001b[39m\"\u001b[39m\u001b[39madata.geojson\u001b[39m\u001b[39m\"\u001b[39m\n\u001b[0;32m----> 5\u001b[0m adata \u001b[39m=\u001b[39m sc\u001b[39m.\u001b[39;49mread(path_h5ad)\n\u001b[1;32m      6\u001b[0m geop \u001b[39m=\u001b[39m geopandas\u001b[39m.\u001b[39mread_file(path_geojson, index_col\u001b[39m=\u001b[39m\u001b[39m0\u001b[39m)\n\u001b[1;32m      7\u001b[0m geop\u001b[39m.\u001b[39mindex \u001b[39m=\u001b[39m geop[\u001b[39m'\u001b[39m\u001b[39mindex\u001b[39m\u001b[39m'\u001b[39m]\n",
      "File \u001b[0;32m/opt/homebrew/Caskroom/miniconda/base/envs/napari-sparrow/lib/python3.10/site-packages/scanpy/readwrite.py:112\u001b[0m, in \u001b[0;36mread\u001b[0;34m(filename, backed, sheet, ext, delimiter, first_column_names, backup_url, cache, cache_compression, **kwargs)\u001b[0m\n\u001b[1;32m    110\u001b[0m filename \u001b[39m=\u001b[39m Path(filename)  \u001b[39m# allow passing strings\u001b[39;00m\n\u001b[1;32m    111\u001b[0m \u001b[39mif\u001b[39;00m is_valid_filename(filename):\n\u001b[0;32m--> 112\u001b[0m     \u001b[39mreturn\u001b[39;00m _read(\n\u001b[1;32m    113\u001b[0m         filename,\n\u001b[1;32m    114\u001b[0m         backed\u001b[39m=\u001b[39;49mbacked,\n\u001b[1;32m    115\u001b[0m         sheet\u001b[39m=\u001b[39;49msheet,\n\u001b[1;32m    116\u001b[0m         ext\u001b[39m=\u001b[39;49mext,\n\u001b[1;32m    117\u001b[0m         delimiter\u001b[39m=\u001b[39;49mdelimiter,\n\u001b[1;32m    118\u001b[0m         first_column_names\u001b[39m=\u001b[39;49mfirst_column_names,\n\u001b[1;32m    119\u001b[0m         backup_url\u001b[39m=\u001b[39;49mbackup_url,\n\u001b[1;32m    120\u001b[0m         cache\u001b[39m=\u001b[39;49mcache,\n\u001b[1;32m    121\u001b[0m         cache_compression\u001b[39m=\u001b[39;49mcache_compression,\n\u001b[1;32m    122\u001b[0m         \u001b[39m*\u001b[39;49m\u001b[39m*\u001b[39;49mkwargs,\n\u001b[1;32m    123\u001b[0m     )\n\u001b[1;32m    124\u001b[0m \u001b[39m# generate filename and read to dict\u001b[39;00m\n\u001b[1;32m    125\u001b[0m filekey \u001b[39m=\u001b[39m \u001b[39mstr\u001b[39m(filename)\n",
      "File \u001b[0;32m/opt/homebrew/Caskroom/miniconda/base/envs/napari-sparrow/lib/python3.10/site-packages/scanpy/readwrite.py:722\u001b[0m, in \u001b[0;36m_read\u001b[0;34m(filename, backed, sheet, ext, delimiter, first_column_names, backup_url, cache, cache_compression, suppress_cache_warning, **kwargs)\u001b[0m\n\u001b[1;32m    720\u001b[0m \u001b[39mif\u001b[39;00m ext \u001b[39min\u001b[39;00m {\u001b[39m'\u001b[39m\u001b[39mh5\u001b[39m\u001b[39m'\u001b[39m, \u001b[39m'\u001b[39m\u001b[39mh5ad\u001b[39m\u001b[39m'\u001b[39m}:\n\u001b[1;32m    721\u001b[0m     \u001b[39mif\u001b[39;00m sheet \u001b[39mis\u001b[39;00m \u001b[39mNone\u001b[39;00m:\n\u001b[0;32m--> 722\u001b[0m         \u001b[39mreturn\u001b[39;00m read_h5ad(filename, backed\u001b[39m=\u001b[39;49mbacked)\n\u001b[1;32m    723\u001b[0m     \u001b[39melse\u001b[39;00m:\n\u001b[1;32m    724\u001b[0m         logg\u001b[39m.\u001b[39mdebug(\u001b[39mf\u001b[39m\u001b[39m'\u001b[39m\u001b[39mreading sheet \u001b[39m\u001b[39m{\u001b[39;00msheet\u001b[39m}\u001b[39;00m\u001b[39m from file \u001b[39m\u001b[39m{\u001b[39;00mfilename\u001b[39m}\u001b[39;00m\u001b[39m'\u001b[39m)\n",
      "File \u001b[0;32m/opt/homebrew/Caskroom/miniconda/base/envs/napari-sparrow/lib/python3.10/site-packages/anndata/_io/h5ad.py:224\u001b[0m, in \u001b[0;36mread_h5ad\u001b[0;34m(filename, backed, as_sparse, as_sparse_fmt, chunk_size)\u001b[0m\n\u001b[1;32m    216\u001b[0m         \u001b[39mraise\u001b[39;00m \u001b[39mNotImplementedError\u001b[39;00m(\n\u001b[1;32m    217\u001b[0m             \u001b[39m\"\u001b[39m\u001b[39mCurrently only `X` and `raw/X` can be read as sparse.\u001b[39m\u001b[39m\"\u001b[39m\n\u001b[1;32m    218\u001b[0m         )\n\u001b[1;32m    220\u001b[0m rdasp \u001b[39m=\u001b[39m partial(\n\u001b[1;32m    221\u001b[0m     read_dense_as_sparse, sparse_format\u001b[39m=\u001b[39mas_sparse_fmt, axis_chunk\u001b[39m=\u001b[39mchunk_size\n\u001b[1;32m    222\u001b[0m )\n\u001b[0;32m--> 224\u001b[0m \u001b[39mwith\u001b[39;00m h5py\u001b[39m.\u001b[39;49mFile(filename, \u001b[39m\"\u001b[39;49m\u001b[39mr\u001b[39;49m\u001b[39m\"\u001b[39;49m) \u001b[39mas\u001b[39;00m f:\n\u001b[1;32m    225\u001b[0m     d \u001b[39m=\u001b[39m {}\n\u001b[1;32m    226\u001b[0m     \u001b[39mfor\u001b[39;00m k \u001b[39min\u001b[39;00m f\u001b[39m.\u001b[39mkeys():\n\u001b[1;32m    227\u001b[0m         \u001b[39m# Backwards compat for old raw\u001b[39;00m\n",
      "File \u001b[0;32m/opt/homebrew/Caskroom/miniconda/base/envs/napari-sparrow/lib/python3.10/site-packages/h5py/_hl/files.py:507\u001b[0m, in \u001b[0;36mFile.__init__\u001b[0;34m(self, name, mode, driver, libver, userblock_size, swmr, rdcc_nslots, rdcc_nbytes, rdcc_w0, track_order, fs_strategy, fs_persist, fs_threshold, fs_page_size, page_buf_size, min_meta_keep, min_raw_keep, locking, **kwds)\u001b[0m\n\u001b[1;32m    502\u001b[0m     fapl \u001b[39m=\u001b[39m make_fapl(driver, libver, rdcc_nslots, rdcc_nbytes, rdcc_w0,\n\u001b[1;32m    503\u001b[0m                      locking, page_buf_size, min_meta_keep, min_raw_keep, \u001b[39m*\u001b[39m\u001b[39m*\u001b[39mkwds)\n\u001b[1;32m    504\u001b[0m     fcpl \u001b[39m=\u001b[39m make_fcpl(track_order\u001b[39m=\u001b[39mtrack_order, fs_strategy\u001b[39m=\u001b[39mfs_strategy,\n\u001b[1;32m    505\u001b[0m                      fs_persist\u001b[39m=\u001b[39mfs_persist, fs_threshold\u001b[39m=\u001b[39mfs_threshold,\n\u001b[1;32m    506\u001b[0m                      fs_page_size\u001b[39m=\u001b[39mfs_page_size)\n\u001b[0;32m--> 507\u001b[0m     fid \u001b[39m=\u001b[39m make_fid(name, mode, userblock_size, fapl, fcpl, swmr\u001b[39m=\u001b[39;49mswmr)\n\u001b[1;32m    509\u001b[0m \u001b[39mif\u001b[39;00m \u001b[39misinstance\u001b[39m(libver, \u001b[39mtuple\u001b[39m):\n\u001b[1;32m    510\u001b[0m     \u001b[39mself\u001b[39m\u001b[39m.\u001b[39m_libver \u001b[39m=\u001b[39m libver\n",
      "File \u001b[0;32m/opt/homebrew/Caskroom/miniconda/base/envs/napari-sparrow/lib/python3.10/site-packages/h5py/_hl/files.py:220\u001b[0m, in \u001b[0;36mmake_fid\u001b[0;34m(name, mode, userblock_size, fapl, fcpl, swmr)\u001b[0m\n\u001b[1;32m    218\u001b[0m     \u001b[39mif\u001b[39;00m swmr \u001b[39mand\u001b[39;00m swmr_support:\n\u001b[1;32m    219\u001b[0m         flags \u001b[39m|\u001b[39m\u001b[39m=\u001b[39m h5f\u001b[39m.\u001b[39mACC_SWMR_READ\n\u001b[0;32m--> 220\u001b[0m     fid \u001b[39m=\u001b[39m h5f\u001b[39m.\u001b[39;49mopen(name, flags, fapl\u001b[39m=\u001b[39;49mfapl)\n\u001b[1;32m    221\u001b[0m \u001b[39melif\u001b[39;00m mode \u001b[39m==\u001b[39m \u001b[39m'\u001b[39m\u001b[39mr+\u001b[39m\u001b[39m'\u001b[39m:\n\u001b[1;32m    222\u001b[0m     fid \u001b[39m=\u001b[39m h5f\u001b[39m.\u001b[39mopen(name, h5f\u001b[39m.\u001b[39mACC_RDWR, fapl\u001b[39m=\u001b[39mfapl)\n",
      "File \u001b[0;32mh5py/_objects.pyx:54\u001b[0m, in \u001b[0;36mh5py._objects.with_phil.wrapper\u001b[0;34m()\u001b[0m\n",
      "File \u001b[0;32mh5py/_objects.pyx:55\u001b[0m, in \u001b[0;36mh5py._objects.with_phil.wrapper\u001b[0;34m()\u001b[0m\n",
      "File \u001b[0;32mh5py/h5f.pyx:106\u001b[0m, in \u001b[0;36mh5py.h5f.open\u001b[0;34m()\u001b[0m\n",
      "\u001b[0;31mFileNotFoundError\u001b[0m: [Errno 2] Unable to open file (unable to open file: name = '../data.nosync/resolve_liver/A1-1_cellpose/adata.h5ad', errno = 2, error message = 'No such file or directory', flags = 0, o_flags = 0)"
     ]
    }
   ],
   "source": [
    "def adata_from_h5ad_geojson(path):\n",
    "    path_h5ad = path + \"adata.h5ad\"\n",
    "    path_geojson = path + \"adata.geojson\"\n",
    "    \n",
    "    adata = sc.read(path_h5ad)\n",
    "    geop = geopandas.read_file(path_geojson, index_col=0)\n",
    "    geop.index = geop['index']\n",
    "    adata.obsm['polygons'] = geop\n",
    "    adata.obsm['polygons']['linewidth'] = 1\n",
    "    \n",
    "    return adata\n",
    "\n",
    "adata_case = adata_from_h5ad_geojson(path_adata_case)\n",
    "adata_ctrl = adata_from_h5ad_geojson(path_adata_ctrl)"
   ]
  },
  {
   "cell_type": "code",
   "execution_count": null,
   "metadata": {},
   "outputs": [
    {
     "name": "stderr",
     "output_type": "stream",
     "text": [
      "/opt/homebrew/Caskroom/miniconda/base/envs/napari-sparrow/lib/python3.10/site-packages/scanpy/tools/_score_genes.py:151: FutureWarning:\n",
      "\n",
      "Passing a set as an indexer is deprecated and will raise in a future version. Use a list instead.\n",
      "\n",
      "/opt/homebrew/Caskroom/miniconda/base/envs/napari-sparrow/lib/python3.10/site-packages/scanpy/tools/_score_genes.py:151: FutureWarning:\n",
      "\n",
      "Passing a set as an indexer is deprecated and will raise in a future version. Use a list instead.\n",
      "\n",
      "/opt/homebrew/Caskroom/miniconda/base/envs/napari-sparrow/lib/python3.10/site-packages/scanpy/tools/_score_genes.py:151: FutureWarning:\n",
      "\n",
      "Passing a set as an indexer is deprecated and will raise in a future version. Use a list instead.\n",
      "\n",
      "/opt/homebrew/Caskroom/miniconda/base/envs/napari-sparrow/lib/python3.10/site-packages/scanpy/tools/_score_genes.py:151: FutureWarning:\n",
      "\n",
      "Passing a set as an indexer is deprecated and will raise in a future version. Use a list instead.\n",
      "\n",
      "/opt/homebrew/Caskroom/miniconda/base/envs/napari-sparrow/lib/python3.10/site-packages/scanpy/tools/_score_genes.py:151: FutureWarning:\n",
      "\n",
      "Passing a set as an indexer is deprecated and will raise in a future version. Use a list instead.\n",
      "\n",
      "/opt/homebrew/Caskroom/miniconda/base/envs/napari-sparrow/lib/python3.10/site-packages/scanpy/tools/_score_genes.py:151: FutureWarning:\n",
      "\n",
      "Passing a set as an indexer is deprecated and will raise in a future version. Use a list instead.\n",
      "\n",
      "/opt/homebrew/Caskroom/miniconda/base/envs/napari-sparrow/lib/python3.10/site-packages/scanpy/tools/_score_genes.py:151: FutureWarning:\n",
      "\n",
      "Passing a set as an indexer is deprecated and will raise in a future version. Use a list instead.\n",
      "\n",
      "/opt/homebrew/Caskroom/miniconda/base/envs/napari-sparrow/lib/python3.10/site-packages/scanpy/tools/_score_genes.py:151: FutureWarning:\n",
      "\n",
      "Passing a set as an indexer is deprecated and will raise in a future version. Use a list instead.\n",
      "\n",
      "/opt/homebrew/Caskroom/miniconda/base/envs/napari-sparrow/lib/python3.10/site-packages/scanpy/tools/_score_genes.py:151: FutureWarning:\n",
      "\n",
      "Passing a set as an indexer is deprecated and will raise in a future version. Use a list instead.\n",
      "\n",
      "/opt/homebrew/Caskroom/miniconda/base/envs/napari-sparrow/lib/python3.10/site-packages/scanpy/tools/_score_genes.py:151: FutureWarning:\n",
      "\n",
      "Passing a set as an indexer is deprecated and will raise in a future version. Use a list instead.\n",
      "\n",
      "/opt/homebrew/Caskroom/miniconda/base/envs/napari-sparrow/lib/python3.10/site-packages/scanpy/tools/_score_genes.py:151: FutureWarning:\n",
      "\n",
      "Passing a set as an indexer is deprecated and will raise in a future version. Use a list instead.\n",
      "\n",
      "/opt/homebrew/Caskroom/miniconda/base/envs/napari-sparrow/lib/python3.10/site-packages/scanpy/tools/_score_genes.py:151: FutureWarning:\n",
      "\n",
      "Passing a set as an indexer is deprecated and will raise in a future version. Use a list instead.\n",
      "\n",
      "/opt/homebrew/Caskroom/miniconda/base/envs/napari-sparrow/lib/python3.10/site-packages/scanpy/tools/_score_genes.py:151: FutureWarning:\n",
      "\n",
      "Passing a set as an indexer is deprecated and will raise in a future version. Use a list instead.\n",
      "\n",
      "/opt/homebrew/Caskroom/miniconda/base/envs/napari-sparrow/lib/python3.10/site-packages/scanpy/tools/_score_genes.py:151: FutureWarning:\n",
      "\n",
      "Passing a set as an indexer is deprecated and will raise in a future version. Use a list instead.\n",
      "\n",
      "/opt/homebrew/Caskroom/miniconda/base/envs/napari-sparrow/lib/python3.10/site-packages/scanpy/tools/_score_genes.py:151: FutureWarning:\n",
      "\n",
      "Passing a set as an indexer is deprecated and will raise in a future version. Use a list instead.\n",
      "\n",
      "/opt/homebrew/Caskroom/miniconda/base/envs/napari-sparrow/lib/python3.10/site-packages/scanpy/tools/_score_genes.py:151: FutureWarning:\n",
      "\n",
      "Passing a set as an indexer is deprecated and will raise in a future version. Use a list instead.\n",
      "\n",
      "/opt/homebrew/Caskroom/miniconda/base/envs/napari-sparrow/lib/python3.10/site-packages/scanpy/tools/_score_genes.py:151: FutureWarning:\n",
      "\n",
      "Passing a set as an indexer is deprecated and will raise in a future version. Use a list instead.\n",
      "\n",
      "/opt/homebrew/Caskroom/miniconda/base/envs/napari-sparrow/lib/python3.10/site-packages/scanpy/tools/_score_genes.py:151: FutureWarning:\n",
      "\n",
      "Passing a set as an indexer is deprecated and will raise in a future version. Use a list instead.\n",
      "\n",
      "/opt/homebrew/Caskroom/miniconda/base/envs/napari-sparrow/lib/python3.10/site-packages/scanpy/tools/_score_genes.py:151: FutureWarning:\n",
      "\n",
      "Passing a set as an indexer is deprecated and will raise in a future version. Use a list instead.\n",
      "\n",
      "/opt/homebrew/Caskroom/miniconda/base/envs/napari-sparrow/lib/python3.10/site-packages/scanpy/tools/_score_genes.py:151: FutureWarning:\n",
      "\n",
      "Passing a set as an indexer is deprecated and will raise in a future version. Use a list instead.\n",
      "\n",
      "/opt/homebrew/Caskroom/miniconda/base/envs/napari-sparrow/lib/python3.10/site-packages/scanpy/tools/_score_genes.py:151: FutureWarning:\n",
      "\n",
      "Passing a set as an indexer is deprecated and will raise in a future version. Use a list instead.\n",
      "\n",
      "/opt/homebrew/Caskroom/miniconda/base/envs/napari-sparrow/lib/python3.10/site-packages/scanpy/tools/_score_genes.py:151: FutureWarning:\n",
      "\n",
      "Passing a set as an indexer is deprecated and will raise in a future version. Use a list instead.\n",
      "\n",
      "/opt/homebrew/Caskroom/miniconda/base/envs/napari-sparrow/lib/python3.10/site-packages/scanpy/tools/_score_genes.py:151: FutureWarning:\n",
      "\n",
      "Passing a set as an indexer is deprecated and will raise in a future version. Use a list instead.\n",
      "\n",
      "/opt/homebrew/Caskroom/miniconda/base/envs/napari-sparrow/lib/python3.10/site-packages/scanpy/tools/_score_genes.py:151: FutureWarning:\n",
      "\n",
      "Passing a set as an indexer is deprecated and will raise in a future version. Use a list instead.\n",
      "\n",
      "/opt/homebrew/Caskroom/miniconda/base/envs/napari-sparrow/lib/python3.10/site-packages/scanpy/tools/_score_genes.py:151: FutureWarning:\n",
      "\n",
      "Passing a set as an indexer is deprecated and will raise in a future version. Use a list instead.\n",
      "\n",
      "/opt/homebrew/Caskroom/miniconda/base/envs/napari-sparrow/lib/python3.10/site-packages/scanpy/tools/_score_genes.py:151: FutureWarning:\n",
      "\n",
      "Passing a set as an indexer is deprecated and will raise in a future version. Use a list instead.\n",
      "\n",
      "/opt/homebrew/Caskroom/miniconda/base/envs/napari-sparrow/lib/python3.10/site-packages/scanpy/tools/_score_genes.py:151: FutureWarning:\n",
      "\n",
      "Passing a set as an indexer is deprecated and will raise in a future version. Use a list instead.\n",
      "\n",
      "/opt/homebrew/Caskroom/miniconda/base/envs/napari-sparrow/lib/python3.10/site-packages/scanpy/tools/_score_genes.py:151: FutureWarning:\n",
      "\n",
      "Passing a set as an indexer is deprecated and will raise in a future version. Use a list instead.\n",
      "\n",
      "/opt/homebrew/Caskroom/miniconda/base/envs/napari-sparrow/lib/python3.10/site-packages/scanpy/tools/_score_genes.py:151: FutureWarning:\n",
      "\n",
      "Passing a set as an indexer is deprecated and will raise in a future version. Use a list instead.\n",
      "\n",
      "/opt/homebrew/Caskroom/miniconda/base/envs/napari-sparrow/lib/python3.10/site-packages/scanpy/tools/_score_genes.py:151: FutureWarning:\n",
      "\n",
      "Passing a set as an indexer is deprecated and will raise in a future version. Use a list instead.\n",
      "\n",
      "/opt/homebrew/Caskroom/miniconda/base/envs/napari-sparrow/lib/python3.10/site-packages/scanpy/tools/_score_genes.py:151: FutureWarning:\n",
      "\n",
      "Passing a set as an indexer is deprecated and will raise in a future version. Use a list instead.\n",
      "\n",
      "/opt/homebrew/Caskroom/miniconda/base/envs/napari-sparrow/lib/python3.10/site-packages/scanpy/tools/_score_genes.py:151: FutureWarning:\n",
      "\n",
      "Passing a set as an indexer is deprecated and will raise in a future version. Use a list instead.\n",
      "\n",
      "/opt/homebrew/Caskroom/miniconda/base/envs/napari-sparrow/lib/python3.10/site-packages/scanpy/tools/_score_genes.py:151: FutureWarning:\n",
      "\n",
      "Passing a set as an indexer is deprecated and will raise in a future version. Use a list instead.\n",
      "\n",
      "/opt/homebrew/Caskroom/miniconda/base/envs/napari-sparrow/lib/python3.10/site-packages/scanpy/tools/_score_genes.py:151: FutureWarning:\n",
      "\n",
      "Passing a set as an indexer is deprecated and will raise in a future version. Use a list instead.\n",
      "\n",
      "/opt/homebrew/Caskroom/miniconda/base/envs/napari-sparrow/lib/python3.10/site-packages/scanpy/tools/_score_genes.py:151: FutureWarning:\n",
      "\n",
      "Passing a set as an indexer is deprecated and will raise in a future version. Use a list instead.\n",
      "\n",
      "/opt/homebrew/Caskroom/miniconda/base/envs/napari-sparrow/lib/python3.10/site-packages/scanpy/tools/_score_genes.py:151: FutureWarning:\n",
      "\n",
      "Passing a set as an indexer is deprecated and will raise in a future version. Use a list instead.\n",
      "\n",
      "/opt/homebrew/Caskroom/miniconda/base/envs/napari-sparrow/lib/python3.10/site-packages/scanpy/tools/_score_genes.py:151: FutureWarning:\n",
      "\n",
      "Passing a set as an indexer is deprecated and will raise in a future version. Use a list instead.\n",
      "\n",
      "/opt/homebrew/Caskroom/miniconda/base/envs/napari-sparrow/lib/python3.10/site-packages/scanpy/tools/_score_genes.py:151: FutureWarning:\n",
      "\n",
      "Passing a set as an indexer is deprecated and will raise in a future version. Use a list instead.\n",
      "\n",
      "/opt/homebrew/Caskroom/miniconda/base/envs/napari-sparrow/lib/python3.10/site-packages/scanpy/tools/_score_genes.py:151: FutureWarning:\n",
      "\n",
      "Passing a set as an indexer is deprecated and will raise in a future version. Use a list instead.\n",
      "\n",
      "/opt/homebrew/Caskroom/miniconda/base/envs/napari-sparrow/lib/python3.10/site-packages/scanpy/tools/_score_genes.py:151: FutureWarning:\n",
      "\n",
      "Passing a set as an indexer is deprecated and will raise in a future version. Use a list instead.\n",
      "\n",
      "/opt/homebrew/Caskroom/miniconda/base/envs/napari-sparrow/lib/python3.10/site-packages/scanpy/tools/_score_genes.py:151: FutureWarning:\n",
      "\n",
      "Passing a set as an indexer is deprecated and will raise in a future version. Use a list instead.\n",
      "\n",
      "/opt/homebrew/Caskroom/miniconda/base/envs/napari-sparrow/lib/python3.10/site-packages/scanpy/tools/_score_genes.py:151: FutureWarning:\n",
      "\n",
      "Passing a set as an indexer is deprecated and will raise in a future version. Use a list instead.\n",
      "\n",
      "/opt/homebrew/Caskroom/miniconda/base/envs/napari-sparrow/lib/python3.10/site-packages/scanpy/tools/_score_genes.py:151: FutureWarning:\n",
      "\n",
      "Passing a set as an indexer is deprecated and will raise in a future version. Use a list instead.\n",
      "\n",
      "/opt/homebrew/Caskroom/miniconda/base/envs/napari-sparrow/lib/python3.10/site-packages/scanpy/tools/_score_genes.py:151: FutureWarning:\n",
      "\n",
      "Passing a set as an indexer is deprecated and will raise in a future version. Use a list instead.\n",
      "\n",
      "/opt/homebrew/Caskroom/miniconda/base/envs/napari-sparrow/lib/python3.10/site-packages/scanpy/tools/_score_genes.py:151: FutureWarning:\n",
      "\n",
      "Passing a set as an indexer is deprecated and will raise in a future version. Use a list instead.\n",
      "\n",
      "/opt/homebrew/Caskroom/miniconda/base/envs/napari-sparrow/lib/python3.10/site-packages/scanpy/tools/_score_genes.py:151: FutureWarning:\n",
      "\n",
      "Passing a set as an indexer is deprecated and will raise in a future version. Use a list instead.\n",
      "\n",
      "/opt/homebrew/Caskroom/miniconda/base/envs/napari-sparrow/lib/python3.10/site-packages/scanpy/tools/_score_genes.py:151: FutureWarning:\n",
      "\n",
      "Passing a set as an indexer is deprecated and will raise in a future version. Use a list instead.\n",
      "\n",
      "/opt/homebrew/Caskroom/miniconda/base/envs/napari-sparrow/lib/python3.10/site-packages/scanpy/tools/_score_genes.py:151: FutureWarning:\n",
      "\n",
      "Passing a set as an indexer is deprecated and will raise in a future version. Use a list instead.\n",
      "\n",
      "/opt/homebrew/Caskroom/miniconda/base/envs/napari-sparrow/lib/python3.10/site-packages/scanpy/tools/_score_genes.py:151: FutureWarning:\n",
      "\n",
      "Passing a set as an indexer is deprecated and will raise in a future version. Use a list instead.\n",
      "\n",
      "/opt/homebrew/Caskroom/miniconda/base/envs/napari-sparrow/lib/python3.10/site-packages/scanpy/tools/_score_genes.py:151: FutureWarning:\n",
      "\n",
      "Passing a set as an indexer is deprecated and will raise in a future version. Use a list instead.\n",
      "\n",
      "/opt/homebrew/Caskroom/miniconda/base/envs/napari-sparrow/lib/python3.10/site-packages/scanpy/tools/_score_genes.py:151: FutureWarning:\n",
      "\n",
      "Passing a set as an indexer is deprecated and will raise in a future version. Use a list instead.\n",
      "\n",
      "/opt/homebrew/Caskroom/miniconda/base/envs/napari-sparrow/lib/python3.10/site-packages/scanpy/tools/_score_genes.py:151: FutureWarning:\n",
      "\n",
      "Passing a set as an indexer is deprecated and will raise in a future version. Use a list instead.\n",
      "\n",
      "/opt/homebrew/Caskroom/miniconda/base/envs/napari-sparrow/lib/python3.10/site-packages/scanpy/tools/_score_genes.py:151: FutureWarning:\n",
      "\n",
      "Passing a set as an indexer is deprecated and will raise in a future version. Use a list instead.\n",
      "\n",
      "/opt/homebrew/Caskroom/miniconda/base/envs/napari-sparrow/lib/python3.10/site-packages/scanpy/tools/_score_genes.py:151: FutureWarning:\n",
      "\n",
      "Passing a set as an indexer is deprecated and will raise in a future version. Use a list instead.\n",
      "\n",
      "/opt/homebrew/Caskroom/miniconda/base/envs/napari-sparrow/lib/python3.10/site-packages/scanpy/tools/_score_genes.py:151: FutureWarning:\n",
      "\n",
      "Passing a set as an indexer is deprecated and will raise in a future version. Use a list instead.\n",
      "\n",
      "/opt/homebrew/Caskroom/miniconda/base/envs/napari-sparrow/lib/python3.10/site-packages/scanpy/tools/_score_genes.py:151: FutureWarning:\n",
      "\n",
      "Passing a set as an indexer is deprecated and will raise in a future version. Use a list instead.\n",
      "\n",
      "/opt/homebrew/Caskroom/miniconda/base/envs/napari-sparrow/lib/python3.10/site-packages/scanpy/tools/_score_genes.py:151: FutureWarning:\n",
      "\n",
      "Passing a set as an indexer is deprecated and will raise in a future version. Use a list instead.\n",
      "\n",
      "/opt/homebrew/Caskroom/miniconda/base/envs/napari-sparrow/lib/python3.10/site-packages/scanpy/tools/_score_genes.py:151: FutureWarning:\n",
      "\n",
      "Passing a set as an indexer is deprecated and will raise in a future version. Use a list instead.\n",
      "\n",
      "/opt/homebrew/Caskroom/miniconda/base/envs/napari-sparrow/lib/python3.10/site-packages/scanpy/tools/_score_genes.py:151: FutureWarning:\n",
      "\n",
      "Passing a set as an indexer is deprecated and will raise in a future version. Use a list instead.\n",
      "\n",
      "/opt/homebrew/Caskroom/miniconda/base/envs/napari-sparrow/lib/python3.10/site-packages/scanpy/tools/_score_genes.py:151: FutureWarning:\n",
      "\n",
      "Passing a set as an indexer is deprecated and will raise in a future version. Use a list instead.\n",
      "\n",
      "/opt/homebrew/Caskroom/miniconda/base/envs/napari-sparrow/lib/python3.10/site-packages/scanpy/tools/_score_genes.py:151: FutureWarning:\n",
      "\n",
      "Passing a set as an indexer is deprecated and will raise in a future version. Use a list instead.\n",
      "\n",
      "/opt/homebrew/Caskroom/miniconda/base/envs/napari-sparrow/lib/python3.10/site-packages/scanpy/tools/_score_genes.py:151: FutureWarning:\n",
      "\n",
      "Passing a set as an indexer is deprecated and will raise in a future version. Use a list instead.\n",
      "\n",
      "/opt/homebrew/Caskroom/miniconda/base/envs/napari-sparrow/lib/python3.10/site-packages/scanpy/tools/_score_genes.py:151: FutureWarning:\n",
      "\n",
      "Passing a set as an indexer is deprecated and will raise in a future version. Use a list instead.\n",
      "\n",
      "/opt/homebrew/Caskroom/miniconda/base/envs/napari-sparrow/lib/python3.10/site-packages/scanpy/tools/_score_genes.py:151: FutureWarning:\n",
      "\n",
      "Passing a set as an indexer is deprecated and will raise in a future version. Use a list instead.\n",
      "\n",
      "/opt/homebrew/Caskroom/miniconda/base/envs/napari-sparrow/lib/python3.10/site-packages/scanpy/tools/_score_genes.py:151: FutureWarning:\n",
      "\n",
      "Passing a set as an indexer is deprecated and will raise in a future version. Use a list instead.\n",
      "\n",
      "/opt/homebrew/Caskroom/miniconda/base/envs/napari-sparrow/lib/python3.10/site-packages/scanpy/tools/_score_genes.py:151: FutureWarning:\n",
      "\n",
      "Passing a set as an indexer is deprecated and will raise in a future version. Use a list instead.\n",
      "\n"
     ]
    }
   ],
   "source": [
    "if clean:\n",
    "    mg_dict, scoresper_cluster = fc.scoreGenes(adata_ctrl, path_mg, repl_columns={\"Tot_Score_\": \"\", \"uppfer\": \"upffer\"}, del_genes=[\"Hepatocytes\", \"LSEC45\"])\n",
    "    colors = ['#FF0000', '#00FF00', '#0000FF', '#FFFF00', '#FF00FF', '#00FFFF', '#800000', '#008000', '#000080', '#808000', '#800080', '#008080', '#808080', '#FFA500', '#FFC0CB']\n",
    "    gene_indexes = {\"Other_ImmuneCells\": [1,2,8,14,15,16,17,18,19,21,22,26], \"fibroblast\": [4,5,23,25], \"stellate\": [28,29,30]}\n",
    "    adata_ctrl_p, color_dict = fc.clustercleanliness(adata_ctrl, list(mg_dict.keys()), gene_indexes=gene_indexes, colors=colors)\n",
    "\n",
    "    mg_dict, scoresper_cluster = fc.scoreGenes(adata_case, path_mg, repl_columns={\"Tot_Score_\": \"\", \"uppfer\": \"upffer\"}, del_genes=[\"Hepatocytes\", \"LSEC45\"])\n",
    "    colors = ['#FF0000', '#00FF00', '#0000FF', '#FFFF00', '#FF00FF', '#00FFFF', '#800000', '#008000', '#000080', '#808000', '#800080', '#008080', '#808080', '#FFA500', '#FFC0CB']\n",
    "    gene_indexes = {\"Other_ImmuneCells\": [1,2,8,14,15,16,17,18,19,21,22,26], \"fibroblast\": [4,5,23,25], \"stellate\": [28,29,30]}\n",
    "    adata_case_p, color_dict = fc.clustercleanliness(adata_case, list(mg_dict.keys()), gene_indexes=gene_indexes, colors=colors)"
   ]
  },
  {
   "cell_type": "code",
   "execution_count": null,
   "metadata": {},
   "outputs": [
    {
     "name": "stdout",
     "output_type": "stream",
     "text": [
      "Index(['B cells', 'Cholangiocytes', 'HepatocytesCentral', 'HepatocytesPortal',\n",
      "       'Kupffer cells', 'LECs', 'LSEC Central', 'LSEC Portal',\n",
      "       'Mesothelial cells', 'VSMC', 'central_vein_EC45', 'portal_vein_EC45',\n",
      "       'Other_ImmuneCells', 'fibroblast', 'stellate'],\n",
      "      dtype='object')\n",
      "Index(['B cells', 'Cholangiocytes', 'HepatocytesCentral', 'HepatocytesPortal',\n",
      "       'Kupffer cells', 'LECs', 'LSEC Central', 'LSEC Portal',\n",
      "       'Mesothelial cells', 'VSMC', 'central_vein_EC45', 'portal_vein_EC45',\n",
      "       'Other_ImmuneCells', 'fibroblast', 'stellate'],\n",
      "      dtype='object')\n"
     ]
    }
   ],
   "source": [
    "print(adata_ctrl.obs[celltypes].cat.categories)\n",
    "print(adata_case.obs[celltypes].cat.categories)"
   ]
  },
  {
   "cell_type": "code",
   "execution_count": null,
   "metadata": {},
   "outputs": [],
   "source": [
    "def match_membrane(adataNuc,adataCell,cutoff=0):\n",
    "    \"\"\"Find for every cell in the first dataframe the matching cell in the second dataframe. \n",
    "    For some cells, no matching cells are found, those will get NaN's and should be dealt with. Some nuclei will get the same polyT stained cell, these are binucleated. \n",
    "    The cutoff decides the minimal overlap between the cells to be seen as overlapping. 0.5 is generally chosen to prevent two cells overlapping.\"\"\"\n",
    "    # Create geopandas objects with all info we need from the anndata object\n",
    "    geopD=geopandas.GeoDataFrame(adataNuc.obsm['polygons'].geometry,geometry=adataNuc.obsm['polygons'].geometry)\n",
    "    geopP=geopandas.GeoDataFrame(adataCell.obsm['polygons'].geometry,geometry=adataCell.obsm['polygons'].geometry)\n",
    "    \n",
    "    #join based on interesects to see which nuclei overlap with which cells, these are the only possible matchups\n",
    "    possibilities=geopandas.sjoin(geopD,geopP,predicate='intersects',how='left')\n",
    "    #For now filter out the nucleis that don't overlap with any cell\n",
    "    Vclean=possibilities.loc[possibilities.index_right.isnull()==False,:]\n",
    "    \n",
    "    # Create an empty dataframe with all the nuclei, also the ones that don't match up. \n",
    "    polyT_match=pd.DataFrame(data=None,index=geopD.index)\n",
    "    \n",
    "    # Caclulate how much of the area is overlapping with all possible matches \n",
    "    Vclean['matchedArea']=Vclean.intersection(geopP.loc[Vclean.index_right],align=False).area/Vclean.area\n",
    "    #filter out all matches that have less then cutoff in common \n",
    "    Vclean=Vclean.loc[Vclean.matchedArea>cutoff,:]\n",
    "    Vclean.index=Vclean.index.rename('index')\n",
    "    \n",
    "    # for every nucleus, oly keep the most overlapping celll. \n",
    "    temp=Vclean.sort_values('matchedArea', ascending=False).loc[~Vclean.sort_values('matchedArea', ascending=False).index.duplicated(keep='first'),:]\n",
    "    temp.index=temp.index.rename('index')\n",
    "    \n",
    "    polyT_match.index=polyT_match.index.rename('index')\n",
    "    \n",
    "    # Add this informatien to the empty pandas dataframe: in this way, the Nan's  are included\n",
    "    polyT_match=polyT_match.merge(temp,how='left',on='index')\n",
    "    polyT_match.drop(columns=['geometry'],inplace=True)\n",
    "    \n",
    "    return polyT_match"
   ]
  },
  {
   "cell_type": "code",
   "execution_count": null,
   "metadata": {},
   "outputs": [
    {
     "name": "stderr",
     "output_type": "stream",
     "text": [
      "/var/folders/tn/k17r9whs4_g0rwq8pv2p9d340000gn/T/ipykernel_8326/677614657.py:18: UserWarning:\n",
      "\n",
      "Geometry is in a geographic CRS. Results from 'area' are likely incorrect. Use 'GeoSeries.to_crs()' to re-project geometries to a projected CRS before this operation.\n",
      "\n",
      "\n",
      "/opt/homebrew/Caskroom/miniconda/base/envs/napari-sparrow/lib/python3.10/site-packages/geopandas/geodataframe.py:1443: SettingWithCopyWarning:\n",
      "\n",
      "\n",
      "A value is trying to be set on a copy of a slice from a DataFrame.\n",
      "Try using .loc[row_indexer,col_indexer] = value instead\n",
      "\n",
      "See the caveats in the documentation: https://pandas.pydata.org/pandas-docs/stable/user_guide/indexing.html#returning-a-view-versus-a-copy\n",
      "\n"
     ]
    },
    {
     "data": {
      "text/html": [
       "<div>\n",
       "<style scoped>\n",
       "    .dataframe tbody tr th:only-of-type {\n",
       "        vertical-align: middle;\n",
       "    }\n",
       "\n",
       "    .dataframe tbody tr th {\n",
       "        vertical-align: top;\n",
       "    }\n",
       "\n",
       "    .dataframe thead th {\n",
       "        text-align: right;\n",
       "    }\n",
       "</style>\n",
       "<table border=\"1\" class=\"dataframe\">\n",
       "  <thead>\n",
       "    <tr style=\"text-align: right;\">\n",
       "      <th></th>\n",
       "      <th>index_right</th>\n",
       "      <th>matchedArea</th>\n",
       "    </tr>\n",
       "    <tr>\n",
       "      <th>index</th>\n",
       "      <th></th>\n",
       "      <th></th>\n",
       "    </tr>\n",
       "  </thead>\n",
       "  <tbody>\n",
       "    <tr>\n",
       "      <th>9</th>\n",
       "      <td>3755</td>\n",
       "      <td>0.846981</td>\n",
       "    </tr>\n",
       "    <tr>\n",
       "      <th>11</th>\n",
       "      <td>11353</td>\n",
       "      <td>0.747967</td>\n",
       "    </tr>\n",
       "    <tr>\n",
       "      <th>14</th>\n",
       "      <td>3126</td>\n",
       "      <td>1.000000</td>\n",
       "    </tr>\n",
       "    <tr>\n",
       "      <th>15</th>\n",
       "      <td>11603</td>\n",
       "      <td>0.968943</td>\n",
       "    </tr>\n",
       "    <tr>\n",
       "      <th>17</th>\n",
       "      <td>4191</td>\n",
       "      <td>0.869071</td>\n",
       "    </tr>\n",
       "    <tr>\n",
       "      <th>...</th>\n",
       "      <td>...</td>\n",
       "      <td>...</td>\n",
       "    </tr>\n",
       "    <tr>\n",
       "      <th>22364</th>\n",
       "      <td>9238</td>\n",
       "      <td>0.863140</td>\n",
       "    </tr>\n",
       "    <tr>\n",
       "      <th>22379</th>\n",
       "      <td>8730</td>\n",
       "      <td>1.000000</td>\n",
       "    </tr>\n",
       "    <tr>\n",
       "      <th>22396</th>\n",
       "      <td>3322</td>\n",
       "      <td>0.686875</td>\n",
       "    </tr>\n",
       "    <tr>\n",
       "      <th>22406</th>\n",
       "      <td>5606</td>\n",
       "      <td>0.546477</td>\n",
       "    </tr>\n",
       "    <tr>\n",
       "      <th>22458</th>\n",
       "      <td>11032</td>\n",
       "      <td>1.000000</td>\n",
       "    </tr>\n",
       "  </tbody>\n",
       "</table>\n",
       "<p>8737 rows × 2 columns</p>\n",
       "</div>"
      ],
      "text/plain": [
       "      index_right  matchedArea\n",
       "index                         \n",
       "9            3755     0.846981\n",
       "11          11353     0.747967\n",
       "14           3126     1.000000\n",
       "15          11603     0.968943\n",
       "17           4191     0.869071\n",
       "...           ...          ...\n",
       "22364        9238     0.863140\n",
       "22379        8730     1.000000\n",
       "22396        3322     0.686875\n",
       "22406        5606     0.546477\n",
       "22458       11032     1.000000\n",
       "\n",
       "[8737 rows x 2 columns]"
      ]
     },
     "execution_count": 114,
     "metadata": {},
     "output_type": "execute_result"
    }
   ],
   "source": [
    "match = match_membrane(adata_ctrl, adata_case, cutoff=0.5)\n",
    "match = match.dropna()"
   ]
  },
  {
   "cell_type": "code",
   "execution_count": null,
   "metadata": {},
   "outputs": [
    {
     "name": "stdout",
     "output_type": "stream",
     "text": [
      "['ctrl_B cells', 'ctrl_Cholangiocytes', 'ctrl_HepatocytesCentral', 'ctrl_HepatocytesPortal', 'ctrl_Kupffer cells', 'ctrl_LECs', 'ctrl_LSEC Central', 'ctrl_LSEC Portal', 'ctrl_Mesothelial cells', 'ctrl_VSMC', 'ctrl_central_vein_EC45', 'ctrl_portal_vein_EC45', 'ctrl_Other_ImmuneCells', 'ctrl_fibroblast', 'ctrl_stellate', 'case_B cells', 'case_Cholangiocytes', 'case_HepatocytesCentral', 'case_HepatocytesPortal', 'case_Kupffer cells', 'case_LECs', 'case_LSEC Central', 'case_LSEC Portal', 'case_Mesothelial cells', 'case_VSMC', 'case_central_vein_EC45', 'case_portal_vein_EC45', 'case_Other_ImmuneCells', 'case_fibroblast', 'case_stellate']\n"
     ]
    }
   ],
   "source": [
    "label_list_ctrl = [\"ctrl_\" + i for i in list(adata_ctrl.obs[celltypes].cat.categories)]\n",
    "label_list_case = [\"case_\" + i for i in list(adata_ctrl.obs[celltypes].cat.categories)]\n",
    "label_list = label_list_ctrl + label_list_case\n",
    "print(label_list)\n",
    "\n",
    "total_cell_number = len(adata_ctrl.obs[celltypes])\n",
    "total_celltypes = len(adata_ctrl.obs[celltypes].cat.categories)\n",
    "celltype_index = adata_ctrl.obs[celltypes].cat.categories\n",
    "\n",
    "source_list = []\n",
    "target_list = []\n",
    "for i in range(total_celltypes):\n",
    "    source_list += [i] * total_celltypes\n",
    "    target_list += list(range(total_celltypes, total_celltypes*2))\n",
    "\n",
    "value_list = [0] * len(source_list)"
   ]
  },
  {
   "cell_type": "code",
   "execution_count": null,
   "metadata": {},
   "outputs": [],
   "source": [
    "n = 0\n",
    "for i in match.iterrows():\n",
    "    ctrl = adata_ctrl.obs[celltypes][i[0]]\n",
    "    case = adata_case.obs[celltypes][i[1][0]]\n",
    "    value_position = celltype_index.get_loc(ctrl) * total_celltypes + celltype_index.get_loc(case)\n",
    "    value_list[value_position] += 1\n",
    "\n",
    "filtered_value_list = []\n",
    "for i in value_list:\n",
    "    if i <= filter_genes:\n",
    "        filtered_value_list.append(0)\n",
    "    else:\n",
    "        filtered_value_list.append(i)\n",
    "value_list = filtered_value_list"
   ]
  },
  {
   "cell_type": "code",
   "execution_count": null,
   "metadata": {},
   "outputs": [
    {
     "name": "stdout",
     "output_type": "stream",
     "text": [
      "['rgba(255, 0, 0, 0.8)', 'rgba(0, 255, 0, 0.8)', 'rgba(0, 0, 255, 0.8)', 'rgba(255, 255, 0, 0.8)', 'rgba(255, 0, 255, 0.8)', 'rgba(0, 255, 255, 0.8)', 'rgba(128, 0, 0, 0.8)', 'rgba(0, 128, 0, 0.8)', 'rgba(0, 0, 128, 0.8)', 'rgba(128, 128, 0, 0.8)', 'rgba(128, 0, 128, 0.8)', 'rgba(0, 128, 128, 0.8)', 'rgba(128, 128, 128, 0.8)', 'rgba(255, 165, 0, 0.8)', 'rgba(255, 192, 203, 0.8)']\n",
      "['rgba(255, 0, 0, 0.8)', 'rgba(0, 255, 0, 0.8)', 'rgba(0, 0, 255, 0.8)', 'rgba(255, 255, 0, 0.8)', 'rgba(255, 0, 255, 0.8)', 'rgba(0, 255, 255, 0.8)', 'rgba(128, 0, 0, 0.8)', 'rgba(0, 128, 0, 0.8)', 'rgba(0, 0, 128, 0.8)', 'rgba(128, 128, 0, 0.8)', 'rgba(128, 0, 128, 0.8)', 'rgba(0, 128, 128, 0.8)', 'rgba(128, 128, 128, 0.8)', 'rgba(255, 165, 0, 0.8)', 'rgba(255, 192, 203, 0.8)', 'rgba(255, 0, 0, 0.8)', 'rgba(0, 255, 0, 0.8)', 'rgba(0, 0, 255, 0.8)', 'rgba(255, 255, 0, 0.8)', 'rgba(255, 0, 255, 0.8)', 'rgba(0, 255, 255, 0.8)', 'rgba(128, 0, 0, 0.8)', 'rgba(0, 128, 0, 0.8)', 'rgba(0, 0, 128, 0.8)', 'rgba(128, 128, 0, 0.8)', 'rgba(128, 0, 128, 0.8)', 'rgba(0, 128, 128, 0.8)', 'rgba(128, 128, 128, 0.8)', 'rgba(255, 165, 0, 0.8)', 'rgba(255, 192, 203, 0.8)', 'rgba(255, 0, 0, 0.8)', 'rgba(0, 255, 0, 0.8)', 'rgba(0, 0, 255, 0.8)', 'rgba(255, 255, 0, 0.8)', 'rgba(255, 0, 255, 0.8)', 'rgba(0, 255, 255, 0.8)', 'rgba(128, 0, 0, 0.8)', 'rgba(0, 128, 0, 0.8)', 'rgba(0, 0, 128, 0.8)', 'rgba(128, 128, 0, 0.8)', 'rgba(128, 0, 128, 0.8)', 'rgba(0, 128, 128, 0.8)', 'rgba(128, 128, 128, 0.8)', 'rgba(255, 165, 0, 0.8)', 'rgba(255, 192, 203, 0.8)', 'rgba(255, 0, 0, 0.8)', 'rgba(0, 255, 0, 0.8)', 'rgba(0, 0, 255, 0.8)', 'rgba(255, 255, 0, 0.8)', 'rgba(255, 0, 255, 0.8)', 'rgba(0, 255, 255, 0.8)', 'rgba(128, 0, 0, 0.8)', 'rgba(0, 128, 0, 0.8)', 'rgba(0, 0, 128, 0.8)', 'rgba(128, 128, 0, 0.8)', 'rgba(128, 0, 128, 0.8)', 'rgba(0, 128, 128, 0.8)', 'rgba(128, 128, 128, 0.8)', 'rgba(255, 165, 0, 0.8)', 'rgba(255, 192, 203, 0.8)', 'rgba(255, 0, 0, 0.8)', 'rgba(0, 255, 0, 0.8)', 'rgba(0, 0, 255, 0.8)', 'rgba(255, 255, 0, 0.8)', 'rgba(255, 0, 255, 0.8)', 'rgba(0, 255, 255, 0.8)', 'rgba(128, 0, 0, 0.8)', 'rgba(0, 128, 0, 0.8)', 'rgba(0, 0, 128, 0.8)', 'rgba(128, 128, 0, 0.8)', 'rgba(128, 0, 128, 0.8)', 'rgba(0, 128, 128, 0.8)', 'rgba(128, 128, 128, 0.8)', 'rgba(255, 165, 0, 0.8)', 'rgba(255, 192, 203, 0.8)', 'rgba(255, 0, 0, 0.8)', 'rgba(0, 255, 0, 0.8)', 'rgba(0, 0, 255, 0.8)', 'rgba(255, 255, 0, 0.8)', 'rgba(255, 0, 255, 0.8)', 'rgba(0, 255, 255, 0.8)', 'rgba(128, 0, 0, 0.8)', 'rgba(0, 128, 0, 0.8)', 'rgba(0, 0, 128, 0.8)', 'rgba(128, 128, 0, 0.8)', 'rgba(128, 0, 128, 0.8)', 'rgba(0, 128, 128, 0.8)', 'rgba(128, 128, 128, 0.8)', 'rgba(255, 165, 0, 0.8)', 'rgba(255, 192, 203, 0.8)', 'rgba(255, 0, 0, 0.8)', 'rgba(0, 255, 0, 0.8)', 'rgba(0, 0, 255, 0.8)', 'rgba(255, 255, 0, 0.8)', 'rgba(255, 0, 255, 0.8)', 'rgba(0, 255, 255, 0.8)', 'rgba(128, 0, 0, 0.8)', 'rgba(0, 128, 0, 0.8)', 'rgba(0, 0, 128, 0.8)', 'rgba(128, 128, 0, 0.8)', 'rgba(128, 0, 128, 0.8)', 'rgba(0, 128, 128, 0.8)', 'rgba(128, 128, 128, 0.8)', 'rgba(255, 165, 0, 0.8)', 'rgba(255, 192, 203, 0.8)', 'rgba(255, 0, 0, 0.8)', 'rgba(0, 255, 0, 0.8)', 'rgba(0, 0, 255, 0.8)', 'rgba(255, 255, 0, 0.8)', 'rgba(255, 0, 255, 0.8)', 'rgba(0, 255, 255, 0.8)', 'rgba(128, 0, 0, 0.8)', 'rgba(0, 128, 0, 0.8)', 'rgba(0, 0, 128, 0.8)', 'rgba(128, 128, 0, 0.8)', 'rgba(128, 0, 128, 0.8)', 'rgba(0, 128, 128, 0.8)', 'rgba(128, 128, 128, 0.8)', 'rgba(255, 165, 0, 0.8)', 'rgba(255, 192, 203, 0.8)', 'rgba(255, 0, 0, 0.8)', 'rgba(0, 255, 0, 0.8)', 'rgba(0, 0, 255, 0.8)', 'rgba(255, 255, 0, 0.8)', 'rgba(255, 0, 255, 0.8)', 'rgba(0, 255, 255, 0.8)', 'rgba(128, 0, 0, 0.8)', 'rgba(0, 128, 0, 0.8)', 'rgba(0, 0, 128, 0.8)', 'rgba(128, 128, 0, 0.8)', 'rgba(128, 0, 128, 0.8)', 'rgba(0, 128, 128, 0.8)', 'rgba(128, 128, 128, 0.8)', 'rgba(255, 165, 0, 0.8)', 'rgba(255, 192, 203, 0.8)', 'rgba(255, 0, 0, 0.8)', 'rgba(0, 255, 0, 0.8)', 'rgba(0, 0, 255, 0.8)', 'rgba(255, 255, 0, 0.8)', 'rgba(255, 0, 255, 0.8)', 'rgba(0, 255, 255, 0.8)', 'rgba(128, 0, 0, 0.8)', 'rgba(0, 128, 0, 0.8)', 'rgba(0, 0, 128, 0.8)', 'rgba(128, 128, 0, 0.8)', 'rgba(128, 0, 128, 0.8)', 'rgba(0, 128, 128, 0.8)', 'rgba(128, 128, 128, 0.8)', 'rgba(255, 165, 0, 0.8)', 'rgba(255, 192, 203, 0.8)', 'rgba(255, 0, 0, 0.8)', 'rgba(0, 255, 0, 0.8)', 'rgba(0, 0, 255, 0.8)', 'rgba(255, 255, 0, 0.8)', 'rgba(255, 0, 255, 0.8)', 'rgba(0, 255, 255, 0.8)', 'rgba(128, 0, 0, 0.8)', 'rgba(0, 128, 0, 0.8)', 'rgba(0, 0, 128, 0.8)', 'rgba(128, 128, 0, 0.8)', 'rgba(128, 0, 128, 0.8)', 'rgba(0, 128, 128, 0.8)', 'rgba(128, 128, 128, 0.8)', 'rgba(255, 165, 0, 0.8)', 'rgba(255, 192, 203, 0.8)', 'rgba(255, 0, 0, 0.8)', 'rgba(0, 255, 0, 0.8)', 'rgba(0, 0, 255, 0.8)', 'rgba(255, 255, 0, 0.8)', 'rgba(255, 0, 255, 0.8)', 'rgba(0, 255, 255, 0.8)', 'rgba(128, 0, 0, 0.8)', 'rgba(0, 128, 0, 0.8)', 'rgba(0, 0, 128, 0.8)', 'rgba(128, 128, 0, 0.8)', 'rgba(128, 0, 128, 0.8)', 'rgba(0, 128, 128, 0.8)', 'rgba(128, 128, 128, 0.8)', 'rgba(255, 165, 0, 0.8)', 'rgba(255, 192, 203, 0.8)', 'rgba(255, 0, 0, 0.8)', 'rgba(0, 255, 0, 0.8)', 'rgba(0, 0, 255, 0.8)', 'rgba(255, 255, 0, 0.8)', 'rgba(255, 0, 255, 0.8)', 'rgba(0, 255, 255, 0.8)', 'rgba(128, 0, 0, 0.8)', 'rgba(0, 128, 0, 0.8)', 'rgba(0, 0, 128, 0.8)', 'rgba(128, 128, 0, 0.8)', 'rgba(128, 0, 128, 0.8)', 'rgba(0, 128, 128, 0.8)', 'rgba(128, 128, 128, 0.8)', 'rgba(255, 165, 0, 0.8)', 'rgba(255, 192, 203, 0.8)', 'rgba(255, 0, 0, 0.8)', 'rgba(0, 255, 0, 0.8)', 'rgba(0, 0, 255, 0.8)', 'rgba(255, 255, 0, 0.8)', 'rgba(255, 0, 255, 0.8)', 'rgba(0, 255, 255, 0.8)', 'rgba(128, 0, 0, 0.8)', 'rgba(0, 128, 0, 0.8)', 'rgba(0, 0, 128, 0.8)', 'rgba(128, 128, 0, 0.8)', 'rgba(128, 0, 128, 0.8)', 'rgba(0, 128, 128, 0.8)', 'rgba(128, 128, 128, 0.8)', 'rgba(255, 165, 0, 0.8)', 'rgba(255, 192, 203, 0.8)', 'rgba(255, 0, 0, 0.8)', 'rgba(0, 255, 0, 0.8)', 'rgba(0, 0, 255, 0.8)', 'rgba(255, 255, 0, 0.8)', 'rgba(255, 0, 255, 0.8)', 'rgba(0, 255, 255, 0.8)', 'rgba(128, 0, 0, 0.8)', 'rgba(0, 128, 0, 0.8)', 'rgba(0, 0, 128, 0.8)', 'rgba(128, 128, 0, 0.8)', 'rgba(128, 0, 128, 0.8)', 'rgba(0, 128, 128, 0.8)', 'rgba(128, 128, 128, 0.8)', 'rgba(255, 165, 0, 0.8)', 'rgba(255, 192, 203, 0.8)']\n"
     ]
    }
   ],
   "source": [
    "color_col = celltypes + \"_colors\"\n",
    "color_codes = adata_ctrl.uns[color_col]\n",
    "rgba_colors = []\n",
    "\n",
    "for color in color_codes:\n",
    "    # Extract red, green, and blue values from the color code\n",
    "    red = int(color[1:3], 16)\n",
    "    green = int(color[3:5], 16)\n",
    "    blue = int(color[5:7], 16)\n",
    "\n",
    "    # Format the rgba string with the desired opacity\n",
    "    rgba_string = f'rgba({red}, {green}, {blue}, 0.8)'\n",
    "    \n",
    "    # Append the rgba string to the new list\n",
    "    rgba_colors.append(rgba_string)\n",
    "\n",
    "print(rgba_colors)\n",
    "colors_list = rgba_colors * total_celltypes\n",
    "print(colors_list)"
   ]
  },
  {
   "cell_type": "code",
   "execution_count": null,
   "metadata": {},
   "outputs": [
    {
     "data": {
      "application/vnd.plotly.v1+json": {
       "config": {
        "plotlyServerURL": "https://plot.ly"
       },
       "data": [
        {
         "link": {
          "color": [
           "rgba(255, 0, 0, 0.8)",
           "rgba(0, 255, 0, 0.8)",
           "rgba(0, 0, 255, 0.8)",
           "rgba(255, 255, 0, 0.8)",
           "rgba(255, 0, 255, 0.8)",
           "rgba(0, 255, 255, 0.8)",
           "rgba(128, 0, 0, 0.8)",
           "rgba(0, 128, 0, 0.8)",
           "rgba(0, 0, 128, 0.8)",
           "rgba(128, 128, 0, 0.8)",
           "rgba(128, 0, 128, 0.8)",
           "rgba(0, 128, 128, 0.8)",
           "rgba(128, 128, 128, 0.8)",
           "rgba(255, 165, 0, 0.8)",
           "rgba(255, 192, 203, 0.8)",
           "rgba(255, 0, 0, 0.8)",
           "rgba(0, 255, 0, 0.8)",
           "rgba(0, 0, 255, 0.8)",
           "rgba(255, 255, 0, 0.8)",
           "rgba(255, 0, 255, 0.8)",
           "rgba(0, 255, 255, 0.8)",
           "rgba(128, 0, 0, 0.8)",
           "rgba(0, 128, 0, 0.8)",
           "rgba(0, 0, 128, 0.8)",
           "rgba(128, 128, 0, 0.8)",
           "rgba(128, 0, 128, 0.8)",
           "rgba(0, 128, 128, 0.8)",
           "rgba(128, 128, 128, 0.8)",
           "rgba(255, 165, 0, 0.8)",
           "rgba(255, 192, 203, 0.8)",
           "rgba(255, 0, 0, 0.8)",
           "rgba(0, 255, 0, 0.8)",
           "rgba(0, 0, 255, 0.8)",
           "rgba(255, 255, 0, 0.8)",
           "rgba(255, 0, 255, 0.8)",
           "rgba(0, 255, 255, 0.8)",
           "rgba(128, 0, 0, 0.8)",
           "rgba(0, 128, 0, 0.8)",
           "rgba(0, 0, 128, 0.8)",
           "rgba(128, 128, 0, 0.8)",
           "rgba(128, 0, 128, 0.8)",
           "rgba(0, 128, 128, 0.8)",
           "rgba(128, 128, 128, 0.8)",
           "rgba(255, 165, 0, 0.8)",
           "rgba(255, 192, 203, 0.8)",
           "rgba(255, 0, 0, 0.8)",
           "rgba(0, 255, 0, 0.8)",
           "rgba(0, 0, 255, 0.8)",
           "rgba(255, 255, 0, 0.8)",
           "rgba(255, 0, 255, 0.8)",
           "rgba(0, 255, 255, 0.8)",
           "rgba(128, 0, 0, 0.8)",
           "rgba(0, 128, 0, 0.8)",
           "rgba(0, 0, 128, 0.8)",
           "rgba(128, 128, 0, 0.8)",
           "rgba(128, 0, 128, 0.8)",
           "rgba(0, 128, 128, 0.8)",
           "rgba(128, 128, 128, 0.8)",
           "rgba(255, 165, 0, 0.8)",
           "rgba(255, 192, 203, 0.8)",
           "rgba(255, 0, 0, 0.8)",
           "rgba(0, 255, 0, 0.8)",
           "rgba(0, 0, 255, 0.8)",
           "rgba(255, 255, 0, 0.8)",
           "rgba(255, 0, 255, 0.8)",
           "rgba(0, 255, 255, 0.8)",
           "rgba(128, 0, 0, 0.8)",
           "rgba(0, 128, 0, 0.8)",
           "rgba(0, 0, 128, 0.8)",
           "rgba(128, 128, 0, 0.8)",
           "rgba(128, 0, 128, 0.8)",
           "rgba(0, 128, 128, 0.8)",
           "rgba(128, 128, 128, 0.8)",
           "rgba(255, 165, 0, 0.8)",
           "rgba(255, 192, 203, 0.8)",
           "rgba(255, 0, 0, 0.8)",
           "rgba(0, 255, 0, 0.8)",
           "rgba(0, 0, 255, 0.8)",
           "rgba(255, 255, 0, 0.8)",
           "rgba(255, 0, 255, 0.8)",
           "rgba(0, 255, 255, 0.8)",
           "rgba(128, 0, 0, 0.8)",
           "rgba(0, 128, 0, 0.8)",
           "rgba(0, 0, 128, 0.8)",
           "rgba(128, 128, 0, 0.8)",
           "rgba(128, 0, 128, 0.8)",
           "rgba(0, 128, 128, 0.8)",
           "rgba(128, 128, 128, 0.8)",
           "rgba(255, 165, 0, 0.8)",
           "rgba(255, 192, 203, 0.8)",
           "rgba(255, 0, 0, 0.8)",
           "rgba(0, 255, 0, 0.8)",
           "rgba(0, 0, 255, 0.8)",
           "rgba(255, 255, 0, 0.8)",
           "rgba(255, 0, 255, 0.8)",
           "rgba(0, 255, 255, 0.8)",
           "rgba(128, 0, 0, 0.8)",
           "rgba(0, 128, 0, 0.8)",
           "rgba(0, 0, 128, 0.8)",
           "rgba(128, 128, 0, 0.8)",
           "rgba(128, 0, 128, 0.8)",
           "rgba(0, 128, 128, 0.8)",
           "rgba(128, 128, 128, 0.8)",
           "rgba(255, 165, 0, 0.8)",
           "rgba(255, 192, 203, 0.8)",
           "rgba(255, 0, 0, 0.8)",
           "rgba(0, 255, 0, 0.8)",
           "rgba(0, 0, 255, 0.8)",
           "rgba(255, 255, 0, 0.8)",
           "rgba(255, 0, 255, 0.8)",
           "rgba(0, 255, 255, 0.8)",
           "rgba(128, 0, 0, 0.8)",
           "rgba(0, 128, 0, 0.8)",
           "rgba(0, 0, 128, 0.8)",
           "rgba(128, 128, 0, 0.8)",
           "rgba(128, 0, 128, 0.8)",
           "rgba(0, 128, 128, 0.8)",
           "rgba(128, 128, 128, 0.8)",
           "rgba(255, 165, 0, 0.8)",
           "rgba(255, 192, 203, 0.8)",
           "rgba(255, 0, 0, 0.8)",
           "rgba(0, 255, 0, 0.8)",
           "rgba(0, 0, 255, 0.8)",
           "rgba(255, 255, 0, 0.8)",
           "rgba(255, 0, 255, 0.8)",
           "rgba(0, 255, 255, 0.8)",
           "rgba(128, 0, 0, 0.8)",
           "rgba(0, 128, 0, 0.8)",
           "rgba(0, 0, 128, 0.8)",
           "rgba(128, 128, 0, 0.8)",
           "rgba(128, 0, 128, 0.8)",
           "rgba(0, 128, 128, 0.8)",
           "rgba(128, 128, 128, 0.8)",
           "rgba(255, 165, 0, 0.8)",
           "rgba(255, 192, 203, 0.8)",
           "rgba(255, 0, 0, 0.8)",
           "rgba(0, 255, 0, 0.8)",
           "rgba(0, 0, 255, 0.8)",
           "rgba(255, 255, 0, 0.8)",
           "rgba(255, 0, 255, 0.8)",
           "rgba(0, 255, 255, 0.8)",
           "rgba(128, 0, 0, 0.8)",
           "rgba(0, 128, 0, 0.8)",
           "rgba(0, 0, 128, 0.8)",
           "rgba(128, 128, 0, 0.8)",
           "rgba(128, 0, 128, 0.8)",
           "rgba(0, 128, 128, 0.8)",
           "rgba(128, 128, 128, 0.8)",
           "rgba(255, 165, 0, 0.8)",
           "rgba(255, 192, 203, 0.8)",
           "rgba(255, 0, 0, 0.8)",
           "rgba(0, 255, 0, 0.8)",
           "rgba(0, 0, 255, 0.8)",
           "rgba(255, 255, 0, 0.8)",
           "rgba(255, 0, 255, 0.8)",
           "rgba(0, 255, 255, 0.8)",
           "rgba(128, 0, 0, 0.8)",
           "rgba(0, 128, 0, 0.8)",
           "rgba(0, 0, 128, 0.8)",
           "rgba(128, 128, 0, 0.8)",
           "rgba(128, 0, 128, 0.8)",
           "rgba(0, 128, 128, 0.8)",
           "rgba(128, 128, 128, 0.8)",
           "rgba(255, 165, 0, 0.8)",
           "rgba(255, 192, 203, 0.8)",
           "rgba(255, 0, 0, 0.8)",
           "rgba(0, 255, 0, 0.8)",
           "rgba(0, 0, 255, 0.8)",
           "rgba(255, 255, 0, 0.8)",
           "rgba(255, 0, 255, 0.8)",
           "rgba(0, 255, 255, 0.8)",
           "rgba(128, 0, 0, 0.8)",
           "rgba(0, 128, 0, 0.8)",
           "rgba(0, 0, 128, 0.8)",
           "rgba(128, 128, 0, 0.8)",
           "rgba(128, 0, 128, 0.8)",
           "rgba(0, 128, 128, 0.8)",
           "rgba(128, 128, 128, 0.8)",
           "rgba(255, 165, 0, 0.8)",
           "rgba(255, 192, 203, 0.8)",
           "rgba(255, 0, 0, 0.8)",
           "rgba(0, 255, 0, 0.8)",
           "rgba(0, 0, 255, 0.8)",
           "rgba(255, 255, 0, 0.8)",
           "rgba(255, 0, 255, 0.8)",
           "rgba(0, 255, 255, 0.8)",
           "rgba(128, 0, 0, 0.8)",
           "rgba(0, 128, 0, 0.8)",
           "rgba(0, 0, 128, 0.8)",
           "rgba(128, 128, 0, 0.8)",
           "rgba(128, 0, 128, 0.8)",
           "rgba(0, 128, 128, 0.8)",
           "rgba(128, 128, 128, 0.8)",
           "rgba(255, 165, 0, 0.8)",
           "rgba(255, 192, 203, 0.8)",
           "rgba(255, 0, 0, 0.8)",
           "rgba(0, 255, 0, 0.8)",
           "rgba(0, 0, 255, 0.8)",
           "rgba(255, 255, 0, 0.8)",
           "rgba(255, 0, 255, 0.8)",
           "rgba(0, 255, 255, 0.8)",
           "rgba(128, 0, 0, 0.8)",
           "rgba(0, 128, 0, 0.8)",
           "rgba(0, 0, 128, 0.8)",
           "rgba(128, 128, 0, 0.8)",
           "rgba(128, 0, 128, 0.8)",
           "rgba(0, 128, 128, 0.8)",
           "rgba(128, 128, 128, 0.8)",
           "rgba(255, 165, 0, 0.8)",
           "rgba(255, 192, 203, 0.8)",
           "rgba(255, 0, 0, 0.8)",
           "rgba(0, 255, 0, 0.8)",
           "rgba(0, 0, 255, 0.8)",
           "rgba(255, 255, 0, 0.8)",
           "rgba(255, 0, 255, 0.8)",
           "rgba(0, 255, 255, 0.8)",
           "rgba(128, 0, 0, 0.8)",
           "rgba(0, 128, 0, 0.8)",
           "rgba(0, 0, 128, 0.8)",
           "rgba(128, 128, 0, 0.8)",
           "rgba(128, 0, 128, 0.8)",
           "rgba(0, 128, 128, 0.8)",
           "rgba(128, 128, 128, 0.8)",
           "rgba(255, 165, 0, 0.8)",
           "rgba(255, 192, 203, 0.8)"
          ],
          "source": [
           0,
           0,
           0,
           0,
           0,
           0,
           0,
           0,
           0,
           0,
           0,
           0,
           0,
           0,
           0,
           1,
           1,
           1,
           1,
           1,
           1,
           1,
           1,
           1,
           1,
           1,
           1,
           1,
           1,
           1,
           2,
           2,
           2,
           2,
           2,
           2,
           2,
           2,
           2,
           2,
           2,
           2,
           2,
           2,
           2,
           3,
           3,
           3,
           3,
           3,
           3,
           3,
           3,
           3,
           3,
           3,
           3,
           3,
           3,
           3,
           4,
           4,
           4,
           4,
           4,
           4,
           4,
           4,
           4,
           4,
           4,
           4,
           4,
           4,
           4,
           5,
           5,
           5,
           5,
           5,
           5,
           5,
           5,
           5,
           5,
           5,
           5,
           5,
           5,
           5,
           6,
           6,
           6,
           6,
           6,
           6,
           6,
           6,
           6,
           6,
           6,
           6,
           6,
           6,
           6,
           7,
           7,
           7,
           7,
           7,
           7,
           7,
           7,
           7,
           7,
           7,
           7,
           7,
           7,
           7,
           8,
           8,
           8,
           8,
           8,
           8,
           8,
           8,
           8,
           8,
           8,
           8,
           8,
           8,
           8,
           9,
           9,
           9,
           9,
           9,
           9,
           9,
           9,
           9,
           9,
           9,
           9,
           9,
           9,
           9,
           10,
           10,
           10,
           10,
           10,
           10,
           10,
           10,
           10,
           10,
           10,
           10,
           10,
           10,
           10,
           11,
           11,
           11,
           11,
           11,
           11,
           11,
           11,
           11,
           11,
           11,
           11,
           11,
           11,
           11,
           12,
           12,
           12,
           12,
           12,
           12,
           12,
           12,
           12,
           12,
           12,
           12,
           12,
           12,
           12,
           13,
           13,
           13,
           13,
           13,
           13,
           13,
           13,
           13,
           13,
           13,
           13,
           13,
           13,
           13,
           14,
           14,
           14,
           14,
           14,
           14,
           14,
           14,
           14,
           14,
           14,
           14,
           14,
           14,
           14
          ],
          "target": [
           15,
           16,
           17,
           18,
           19,
           20,
           21,
           22,
           23,
           24,
           25,
           26,
           27,
           28,
           29,
           15,
           16,
           17,
           18,
           19,
           20,
           21,
           22,
           23,
           24,
           25,
           26,
           27,
           28,
           29,
           15,
           16,
           17,
           18,
           19,
           20,
           21,
           22,
           23,
           24,
           25,
           26,
           27,
           28,
           29,
           15,
           16,
           17,
           18,
           19,
           20,
           21,
           22,
           23,
           24,
           25,
           26,
           27,
           28,
           29,
           15,
           16,
           17,
           18,
           19,
           20,
           21,
           22,
           23,
           24,
           25,
           26,
           27,
           28,
           29,
           15,
           16,
           17,
           18,
           19,
           20,
           21,
           22,
           23,
           24,
           25,
           26,
           27,
           28,
           29,
           15,
           16,
           17,
           18,
           19,
           20,
           21,
           22,
           23,
           24,
           25,
           26,
           27,
           28,
           29,
           15,
           16,
           17,
           18,
           19,
           20,
           21,
           22,
           23,
           24,
           25,
           26,
           27,
           28,
           29,
           15,
           16,
           17,
           18,
           19,
           20,
           21,
           22,
           23,
           24,
           25,
           26,
           27,
           28,
           29,
           15,
           16,
           17,
           18,
           19,
           20,
           21,
           22,
           23,
           24,
           25,
           26,
           27,
           28,
           29,
           15,
           16,
           17,
           18,
           19,
           20,
           21,
           22,
           23,
           24,
           25,
           26,
           27,
           28,
           29,
           15,
           16,
           17,
           18,
           19,
           20,
           21,
           22,
           23,
           24,
           25,
           26,
           27,
           28,
           29,
           15,
           16,
           17,
           18,
           19,
           20,
           21,
           22,
           23,
           24,
           25,
           26,
           27,
           28,
           29,
           15,
           16,
           17,
           18,
           19,
           20,
           21,
           22,
           23,
           24,
           25,
           26,
           27,
           28,
           29,
           15,
           16,
           17,
           18,
           19,
           20,
           21,
           22,
           23,
           24,
           25,
           26,
           27,
           28,
           29
          ],
          "value": [
           0,
           0,
           0,
           0,
           0,
           0,
           0,
           0,
           0,
           0,
           0,
           0,
           0,
           0,
           0,
           0,
           180,
           0,
           12,
           0,
           0,
           0,
           0,
           0,
           0,
           0,
           0,
           0,
           0,
           0,
           0,
           0,
           3710,
           413,
           0,
           0,
           0,
           23,
           0,
           0,
           0,
           0,
           0,
           0,
           56,
           0,
           0,
           56,
           3087,
           0,
           0,
           0,
           0,
           0,
           0,
           0,
           0,
           0,
           0,
           0,
           0,
           0,
           22,
           0,
           287,
           0,
           0,
           0,
           0,
           0,
           0,
           0,
           0,
           0,
           0,
           0,
           0,
           0,
           0,
           0,
           0,
           0,
           0,
           0,
           0,
           0,
           0,
           0,
           0,
           0,
           0,
           0,
           0,
           0,
           0,
           0,
           74,
           15,
           0,
           0,
           0,
           0,
           0,
           0,
           0,
           0,
           0,
           17,
           11,
           0,
           0,
           0,
           111,
           0,
           0,
           0,
           0,
           0,
           0,
           0,
           0,
           0,
           0,
           0,
           0,
           0,
           0,
           0,
           0,
           0,
           0,
           0,
           0,
           0,
           0,
           0,
           0,
           0,
           0,
           0,
           0,
           0,
           0,
           0,
           92,
           0,
           0,
           0,
           0,
           0,
           0,
           0,
           0,
           0,
           0,
           0,
           0,
           0,
           0,
           0,
           0,
           0,
           0,
           0,
           0,
           0,
           0,
           0,
           11,
           0,
           0,
           0,
           0,
           0,
           11,
           0,
           70,
           0,
           0,
           0,
           0,
           0,
           0,
           0,
           0,
           0,
           0,
           0,
           0,
           0,
           0,
           0,
           68,
           15,
           0,
           0,
           0,
           0,
           0,
           0,
           0,
           0,
           0,
           0,
           0,
           0,
           0,
           0,
           77,
           0,
           0,
           0,
           0,
           0,
           0,
           0,
           0,
           0,
           0,
           0,
           0,
           0,
           0,
           0,
           169
          ]
         },
         "node": {
          "color": [
           "rgba(255, 0, 0, 0.8)",
           "rgba(0, 255, 0, 0.8)",
           "rgba(0, 0, 255, 0.8)",
           "rgba(255, 255, 0, 0.8)",
           "rgba(255, 0, 255, 0.8)",
           "rgba(0, 255, 255, 0.8)",
           "rgba(128, 0, 0, 0.8)",
           "rgba(0, 128, 0, 0.8)",
           "rgba(0, 0, 128, 0.8)",
           "rgba(128, 128, 0, 0.8)",
           "rgba(128, 0, 128, 0.8)",
           "rgba(0, 128, 128, 0.8)",
           "rgba(128, 128, 128, 0.8)",
           "rgba(255, 165, 0, 0.8)",
           "rgba(255, 192, 203, 0.8)",
           "rgba(255, 0, 0, 0.8)",
           "rgba(0, 255, 0, 0.8)",
           "rgba(0, 0, 255, 0.8)",
           "rgba(255, 255, 0, 0.8)",
           "rgba(255, 0, 255, 0.8)",
           "rgba(0, 255, 255, 0.8)",
           "rgba(128, 0, 0, 0.8)",
           "rgba(0, 128, 0, 0.8)",
           "rgba(0, 0, 128, 0.8)",
           "rgba(128, 128, 0, 0.8)",
           "rgba(128, 0, 128, 0.8)",
           "rgba(0, 128, 128, 0.8)",
           "rgba(128, 128, 128, 0.8)",
           "rgba(255, 165, 0, 0.8)",
           "rgba(255, 192, 203, 0.8)",
           "rgba(255, 0, 0, 0.8)",
           "rgba(0, 255, 0, 0.8)",
           "rgba(0, 0, 255, 0.8)",
           "rgba(255, 255, 0, 0.8)",
           "rgba(255, 0, 255, 0.8)",
           "rgba(0, 255, 255, 0.8)",
           "rgba(128, 0, 0, 0.8)",
           "rgba(0, 128, 0, 0.8)",
           "rgba(0, 0, 128, 0.8)",
           "rgba(128, 128, 0, 0.8)",
           "rgba(128, 0, 128, 0.8)",
           "rgba(0, 128, 128, 0.8)",
           "rgba(128, 128, 128, 0.8)",
           "rgba(255, 165, 0, 0.8)",
           "rgba(255, 192, 203, 0.8)",
           "rgba(255, 0, 0, 0.8)",
           "rgba(0, 255, 0, 0.8)",
           "rgba(0, 0, 255, 0.8)",
           "rgba(255, 255, 0, 0.8)",
           "rgba(255, 0, 255, 0.8)",
           "rgba(0, 255, 255, 0.8)",
           "rgba(128, 0, 0, 0.8)",
           "rgba(0, 128, 0, 0.8)",
           "rgba(0, 0, 128, 0.8)",
           "rgba(128, 128, 0, 0.8)",
           "rgba(128, 0, 128, 0.8)",
           "rgba(0, 128, 128, 0.8)",
           "rgba(128, 128, 128, 0.8)",
           "rgba(255, 165, 0, 0.8)",
           "rgba(255, 192, 203, 0.8)",
           "rgba(255, 0, 0, 0.8)",
           "rgba(0, 255, 0, 0.8)",
           "rgba(0, 0, 255, 0.8)",
           "rgba(255, 255, 0, 0.8)",
           "rgba(255, 0, 255, 0.8)",
           "rgba(0, 255, 255, 0.8)",
           "rgba(128, 0, 0, 0.8)",
           "rgba(0, 128, 0, 0.8)",
           "rgba(0, 0, 128, 0.8)",
           "rgba(128, 128, 0, 0.8)",
           "rgba(128, 0, 128, 0.8)",
           "rgba(0, 128, 128, 0.8)",
           "rgba(128, 128, 128, 0.8)",
           "rgba(255, 165, 0, 0.8)",
           "rgba(255, 192, 203, 0.8)",
           "rgba(255, 0, 0, 0.8)",
           "rgba(0, 255, 0, 0.8)",
           "rgba(0, 0, 255, 0.8)",
           "rgba(255, 255, 0, 0.8)",
           "rgba(255, 0, 255, 0.8)",
           "rgba(0, 255, 255, 0.8)",
           "rgba(128, 0, 0, 0.8)",
           "rgba(0, 128, 0, 0.8)",
           "rgba(0, 0, 128, 0.8)",
           "rgba(128, 128, 0, 0.8)",
           "rgba(128, 0, 128, 0.8)",
           "rgba(0, 128, 128, 0.8)",
           "rgba(128, 128, 128, 0.8)",
           "rgba(255, 165, 0, 0.8)",
           "rgba(255, 192, 203, 0.8)",
           "rgba(255, 0, 0, 0.8)",
           "rgba(0, 255, 0, 0.8)",
           "rgba(0, 0, 255, 0.8)",
           "rgba(255, 255, 0, 0.8)",
           "rgba(255, 0, 255, 0.8)",
           "rgba(0, 255, 255, 0.8)",
           "rgba(128, 0, 0, 0.8)",
           "rgba(0, 128, 0, 0.8)",
           "rgba(0, 0, 128, 0.8)",
           "rgba(128, 128, 0, 0.8)",
           "rgba(128, 0, 128, 0.8)",
           "rgba(0, 128, 128, 0.8)",
           "rgba(128, 128, 128, 0.8)",
           "rgba(255, 165, 0, 0.8)",
           "rgba(255, 192, 203, 0.8)",
           "rgba(255, 0, 0, 0.8)",
           "rgba(0, 255, 0, 0.8)",
           "rgba(0, 0, 255, 0.8)",
           "rgba(255, 255, 0, 0.8)",
           "rgba(255, 0, 255, 0.8)",
           "rgba(0, 255, 255, 0.8)",
           "rgba(128, 0, 0, 0.8)",
           "rgba(0, 128, 0, 0.8)",
           "rgba(0, 0, 128, 0.8)",
           "rgba(128, 128, 0, 0.8)",
           "rgba(128, 0, 128, 0.8)",
           "rgba(0, 128, 128, 0.8)",
           "rgba(128, 128, 128, 0.8)",
           "rgba(255, 165, 0, 0.8)",
           "rgba(255, 192, 203, 0.8)",
           "rgba(255, 0, 0, 0.8)",
           "rgba(0, 255, 0, 0.8)",
           "rgba(0, 0, 255, 0.8)",
           "rgba(255, 255, 0, 0.8)",
           "rgba(255, 0, 255, 0.8)",
           "rgba(0, 255, 255, 0.8)",
           "rgba(128, 0, 0, 0.8)",
           "rgba(0, 128, 0, 0.8)",
           "rgba(0, 0, 128, 0.8)",
           "rgba(128, 128, 0, 0.8)",
           "rgba(128, 0, 128, 0.8)",
           "rgba(0, 128, 128, 0.8)",
           "rgba(128, 128, 128, 0.8)",
           "rgba(255, 165, 0, 0.8)",
           "rgba(255, 192, 203, 0.8)",
           "rgba(255, 0, 0, 0.8)",
           "rgba(0, 255, 0, 0.8)",
           "rgba(0, 0, 255, 0.8)",
           "rgba(255, 255, 0, 0.8)",
           "rgba(255, 0, 255, 0.8)",
           "rgba(0, 255, 255, 0.8)",
           "rgba(128, 0, 0, 0.8)",
           "rgba(0, 128, 0, 0.8)",
           "rgba(0, 0, 128, 0.8)",
           "rgba(128, 128, 0, 0.8)",
           "rgba(128, 0, 128, 0.8)",
           "rgba(0, 128, 128, 0.8)",
           "rgba(128, 128, 128, 0.8)",
           "rgba(255, 165, 0, 0.8)",
           "rgba(255, 192, 203, 0.8)",
           "rgba(255, 0, 0, 0.8)",
           "rgba(0, 255, 0, 0.8)",
           "rgba(0, 0, 255, 0.8)",
           "rgba(255, 255, 0, 0.8)",
           "rgba(255, 0, 255, 0.8)",
           "rgba(0, 255, 255, 0.8)",
           "rgba(128, 0, 0, 0.8)",
           "rgba(0, 128, 0, 0.8)",
           "rgba(0, 0, 128, 0.8)",
           "rgba(128, 128, 0, 0.8)",
           "rgba(128, 0, 128, 0.8)",
           "rgba(0, 128, 128, 0.8)",
           "rgba(128, 128, 128, 0.8)",
           "rgba(255, 165, 0, 0.8)",
           "rgba(255, 192, 203, 0.8)",
           "rgba(255, 0, 0, 0.8)",
           "rgba(0, 255, 0, 0.8)",
           "rgba(0, 0, 255, 0.8)",
           "rgba(255, 255, 0, 0.8)",
           "rgba(255, 0, 255, 0.8)",
           "rgba(0, 255, 255, 0.8)",
           "rgba(128, 0, 0, 0.8)",
           "rgba(0, 128, 0, 0.8)",
           "rgba(0, 0, 128, 0.8)",
           "rgba(128, 128, 0, 0.8)",
           "rgba(128, 0, 128, 0.8)",
           "rgba(0, 128, 128, 0.8)",
           "rgba(128, 128, 128, 0.8)",
           "rgba(255, 165, 0, 0.8)",
           "rgba(255, 192, 203, 0.8)",
           "rgba(255, 0, 0, 0.8)",
           "rgba(0, 255, 0, 0.8)",
           "rgba(0, 0, 255, 0.8)",
           "rgba(255, 255, 0, 0.8)",
           "rgba(255, 0, 255, 0.8)",
           "rgba(0, 255, 255, 0.8)",
           "rgba(128, 0, 0, 0.8)",
           "rgba(0, 128, 0, 0.8)",
           "rgba(0, 0, 128, 0.8)",
           "rgba(128, 128, 0, 0.8)",
           "rgba(128, 0, 128, 0.8)",
           "rgba(0, 128, 128, 0.8)",
           "rgba(128, 128, 128, 0.8)",
           "rgba(255, 165, 0, 0.8)",
           "rgba(255, 192, 203, 0.8)",
           "rgba(255, 0, 0, 0.8)",
           "rgba(0, 255, 0, 0.8)",
           "rgba(0, 0, 255, 0.8)",
           "rgba(255, 255, 0, 0.8)",
           "rgba(255, 0, 255, 0.8)",
           "rgba(0, 255, 255, 0.8)",
           "rgba(128, 0, 0, 0.8)",
           "rgba(0, 128, 0, 0.8)",
           "rgba(0, 0, 128, 0.8)",
           "rgba(128, 128, 0, 0.8)",
           "rgba(128, 0, 128, 0.8)",
           "rgba(0, 128, 128, 0.8)",
           "rgba(128, 128, 128, 0.8)",
           "rgba(255, 165, 0, 0.8)",
           "rgba(255, 192, 203, 0.8)",
           "rgba(255, 0, 0, 0.8)",
           "rgba(0, 255, 0, 0.8)",
           "rgba(0, 0, 255, 0.8)",
           "rgba(255, 255, 0, 0.8)",
           "rgba(255, 0, 255, 0.8)",
           "rgba(0, 255, 255, 0.8)",
           "rgba(128, 0, 0, 0.8)",
           "rgba(0, 128, 0, 0.8)",
           "rgba(0, 0, 128, 0.8)",
           "rgba(128, 128, 0, 0.8)",
           "rgba(128, 0, 128, 0.8)",
           "rgba(0, 128, 128, 0.8)",
           "rgba(128, 128, 128, 0.8)",
           "rgba(255, 165, 0, 0.8)",
           "rgba(255, 192, 203, 0.8)"
          ],
          "label": [
           "ctrl_B cells",
           "ctrl_Cholangiocytes",
           "ctrl_HepatocytesCentral",
           "ctrl_HepatocytesPortal",
           "ctrl_Kupffer cells",
           "ctrl_LECs",
           "ctrl_LSEC Central",
           "ctrl_LSEC Portal",
           "ctrl_Mesothelial cells",
           "ctrl_VSMC",
           "ctrl_central_vein_EC45",
           "ctrl_portal_vein_EC45",
           "ctrl_Other_ImmuneCells",
           "ctrl_fibroblast",
           "ctrl_stellate",
           "case_B cells",
           "case_Cholangiocytes",
           "case_HepatocytesCentral",
           "case_HepatocytesPortal",
           "case_Kupffer cells",
           "case_LECs",
           "case_LSEC Central",
           "case_LSEC Portal",
           "case_Mesothelial cells",
           "case_VSMC",
           "case_central_vein_EC45",
           "case_portal_vein_EC45",
           "case_Other_ImmuneCells",
           "case_fibroblast",
           "case_stellate"
          ],
          "line": {
           "color": "black",
           "width": 1
          },
          "pad": 50,
          "thickness": 20
         },
         "type": "sankey",
         "valueformat": ".0f",
         "valuesuffix": " cells"
        }
       ],
       "layout": {
        "height": 1000,
        "template": {
         "data": {
          "bar": [
           {
            "error_x": {
             "color": "#2a3f5f"
            },
            "error_y": {
             "color": "#2a3f5f"
            },
            "marker": {
             "line": {
              "color": "#E5ECF6",
              "width": 0.5
             },
             "pattern": {
              "fillmode": "overlay",
              "size": 10,
              "solidity": 0.2
             }
            },
            "type": "bar"
           }
          ],
          "barpolar": [
           {
            "marker": {
             "line": {
              "color": "#E5ECF6",
              "width": 0.5
             },
             "pattern": {
              "fillmode": "overlay",
              "size": 10,
              "solidity": 0.2
             }
            },
            "type": "barpolar"
           }
          ],
          "carpet": [
           {
            "aaxis": {
             "endlinecolor": "#2a3f5f",
             "gridcolor": "white",
             "linecolor": "white",
             "minorgridcolor": "white",
             "startlinecolor": "#2a3f5f"
            },
            "baxis": {
             "endlinecolor": "#2a3f5f",
             "gridcolor": "white",
             "linecolor": "white",
             "minorgridcolor": "white",
             "startlinecolor": "#2a3f5f"
            },
            "type": "carpet"
           }
          ],
          "choropleth": [
           {
            "colorbar": {
             "outlinewidth": 0,
             "ticks": ""
            },
            "type": "choropleth"
           }
          ],
          "contour": [
           {
            "colorbar": {
             "outlinewidth": 0,
             "ticks": ""
            },
            "colorscale": [
             [
              0,
              "#0d0887"
             ],
             [
              0.1111111111111111,
              "#46039f"
             ],
             [
              0.2222222222222222,
              "#7201a8"
             ],
             [
              0.3333333333333333,
              "#9c179e"
             ],
             [
              0.4444444444444444,
              "#bd3786"
             ],
             [
              0.5555555555555556,
              "#d8576b"
             ],
             [
              0.6666666666666666,
              "#ed7953"
             ],
             [
              0.7777777777777778,
              "#fb9f3a"
             ],
             [
              0.8888888888888888,
              "#fdca26"
             ],
             [
              1,
              "#f0f921"
             ]
            ],
            "type": "contour"
           }
          ],
          "contourcarpet": [
           {
            "colorbar": {
             "outlinewidth": 0,
             "ticks": ""
            },
            "type": "contourcarpet"
           }
          ],
          "heatmap": [
           {
            "colorbar": {
             "outlinewidth": 0,
             "ticks": ""
            },
            "colorscale": [
             [
              0,
              "#0d0887"
             ],
             [
              0.1111111111111111,
              "#46039f"
             ],
             [
              0.2222222222222222,
              "#7201a8"
             ],
             [
              0.3333333333333333,
              "#9c179e"
             ],
             [
              0.4444444444444444,
              "#bd3786"
             ],
             [
              0.5555555555555556,
              "#d8576b"
             ],
             [
              0.6666666666666666,
              "#ed7953"
             ],
             [
              0.7777777777777778,
              "#fb9f3a"
             ],
             [
              0.8888888888888888,
              "#fdca26"
             ],
             [
              1,
              "#f0f921"
             ]
            ],
            "type": "heatmap"
           }
          ],
          "heatmapgl": [
           {
            "colorbar": {
             "outlinewidth": 0,
             "ticks": ""
            },
            "colorscale": [
             [
              0,
              "#0d0887"
             ],
             [
              0.1111111111111111,
              "#46039f"
             ],
             [
              0.2222222222222222,
              "#7201a8"
             ],
             [
              0.3333333333333333,
              "#9c179e"
             ],
             [
              0.4444444444444444,
              "#bd3786"
             ],
             [
              0.5555555555555556,
              "#d8576b"
             ],
             [
              0.6666666666666666,
              "#ed7953"
             ],
             [
              0.7777777777777778,
              "#fb9f3a"
             ],
             [
              0.8888888888888888,
              "#fdca26"
             ],
             [
              1,
              "#f0f921"
             ]
            ],
            "type": "heatmapgl"
           }
          ],
          "histogram": [
           {
            "marker": {
             "pattern": {
              "fillmode": "overlay",
              "size": 10,
              "solidity": 0.2
             }
            },
            "type": "histogram"
           }
          ],
          "histogram2d": [
           {
            "colorbar": {
             "outlinewidth": 0,
             "ticks": ""
            },
            "colorscale": [
             [
              0,
              "#0d0887"
             ],
             [
              0.1111111111111111,
              "#46039f"
             ],
             [
              0.2222222222222222,
              "#7201a8"
             ],
             [
              0.3333333333333333,
              "#9c179e"
             ],
             [
              0.4444444444444444,
              "#bd3786"
             ],
             [
              0.5555555555555556,
              "#d8576b"
             ],
             [
              0.6666666666666666,
              "#ed7953"
             ],
             [
              0.7777777777777778,
              "#fb9f3a"
             ],
             [
              0.8888888888888888,
              "#fdca26"
             ],
             [
              1,
              "#f0f921"
             ]
            ],
            "type": "histogram2d"
           }
          ],
          "histogram2dcontour": [
           {
            "colorbar": {
             "outlinewidth": 0,
             "ticks": ""
            },
            "colorscale": [
             [
              0,
              "#0d0887"
             ],
             [
              0.1111111111111111,
              "#46039f"
             ],
             [
              0.2222222222222222,
              "#7201a8"
             ],
             [
              0.3333333333333333,
              "#9c179e"
             ],
             [
              0.4444444444444444,
              "#bd3786"
             ],
             [
              0.5555555555555556,
              "#d8576b"
             ],
             [
              0.6666666666666666,
              "#ed7953"
             ],
             [
              0.7777777777777778,
              "#fb9f3a"
             ],
             [
              0.8888888888888888,
              "#fdca26"
             ],
             [
              1,
              "#f0f921"
             ]
            ],
            "type": "histogram2dcontour"
           }
          ],
          "mesh3d": [
           {
            "colorbar": {
             "outlinewidth": 0,
             "ticks": ""
            },
            "type": "mesh3d"
           }
          ],
          "parcoords": [
           {
            "line": {
             "colorbar": {
              "outlinewidth": 0,
              "ticks": ""
             }
            },
            "type": "parcoords"
           }
          ],
          "pie": [
           {
            "automargin": true,
            "type": "pie"
           }
          ],
          "scatter": [
           {
            "fillpattern": {
             "fillmode": "overlay",
             "size": 10,
             "solidity": 0.2
            },
            "type": "scatter"
           }
          ],
          "scatter3d": [
           {
            "line": {
             "colorbar": {
              "outlinewidth": 0,
              "ticks": ""
             }
            },
            "marker": {
             "colorbar": {
              "outlinewidth": 0,
              "ticks": ""
             }
            },
            "type": "scatter3d"
           }
          ],
          "scattercarpet": [
           {
            "marker": {
             "colorbar": {
              "outlinewidth": 0,
              "ticks": ""
             }
            },
            "type": "scattercarpet"
           }
          ],
          "scattergeo": [
           {
            "marker": {
             "colorbar": {
              "outlinewidth": 0,
              "ticks": ""
             }
            },
            "type": "scattergeo"
           }
          ],
          "scattergl": [
           {
            "marker": {
             "colorbar": {
              "outlinewidth": 0,
              "ticks": ""
             }
            },
            "type": "scattergl"
           }
          ],
          "scattermapbox": [
           {
            "marker": {
             "colorbar": {
              "outlinewidth": 0,
              "ticks": ""
             }
            },
            "type": "scattermapbox"
           }
          ],
          "scatterpolar": [
           {
            "marker": {
             "colorbar": {
              "outlinewidth": 0,
              "ticks": ""
             }
            },
            "type": "scatterpolar"
           }
          ],
          "scatterpolargl": [
           {
            "marker": {
             "colorbar": {
              "outlinewidth": 0,
              "ticks": ""
             }
            },
            "type": "scatterpolargl"
           }
          ],
          "scatterternary": [
           {
            "marker": {
             "colorbar": {
              "outlinewidth": 0,
              "ticks": ""
             }
            },
            "type": "scatterternary"
           }
          ],
          "surface": [
           {
            "colorbar": {
             "outlinewidth": 0,
             "ticks": ""
            },
            "colorscale": [
             [
              0,
              "#0d0887"
             ],
             [
              0.1111111111111111,
              "#46039f"
             ],
             [
              0.2222222222222222,
              "#7201a8"
             ],
             [
              0.3333333333333333,
              "#9c179e"
             ],
             [
              0.4444444444444444,
              "#bd3786"
             ],
             [
              0.5555555555555556,
              "#d8576b"
             ],
             [
              0.6666666666666666,
              "#ed7953"
             ],
             [
              0.7777777777777778,
              "#fb9f3a"
             ],
             [
              0.8888888888888888,
              "#fdca26"
             ],
             [
              1,
              "#f0f921"
             ]
            ],
            "type": "surface"
           }
          ],
          "table": [
           {
            "cells": {
             "fill": {
              "color": "#EBF0F8"
             },
             "line": {
              "color": "white"
             }
            },
            "header": {
             "fill": {
              "color": "#C8D4E3"
             },
             "line": {
              "color": "white"
             }
            },
            "type": "table"
           }
          ]
         },
         "layout": {
          "annotationdefaults": {
           "arrowcolor": "#2a3f5f",
           "arrowhead": 0,
           "arrowwidth": 1
          },
          "autotypenumbers": "strict",
          "coloraxis": {
           "colorbar": {
            "outlinewidth": 0,
            "ticks": ""
           }
          },
          "colorscale": {
           "diverging": [
            [
             0,
             "#8e0152"
            ],
            [
             0.1,
             "#c51b7d"
            ],
            [
             0.2,
             "#de77ae"
            ],
            [
             0.3,
             "#f1b6da"
            ],
            [
             0.4,
             "#fde0ef"
            ],
            [
             0.5,
             "#f7f7f7"
            ],
            [
             0.6,
             "#e6f5d0"
            ],
            [
             0.7,
             "#b8e186"
            ],
            [
             0.8,
             "#7fbc41"
            ],
            [
             0.9,
             "#4d9221"
            ],
            [
             1,
             "#276419"
            ]
           ],
           "sequential": [
            [
             0,
             "#0d0887"
            ],
            [
             0.1111111111111111,
             "#46039f"
            ],
            [
             0.2222222222222222,
             "#7201a8"
            ],
            [
             0.3333333333333333,
             "#9c179e"
            ],
            [
             0.4444444444444444,
             "#bd3786"
            ],
            [
             0.5555555555555556,
             "#d8576b"
            ],
            [
             0.6666666666666666,
             "#ed7953"
            ],
            [
             0.7777777777777778,
             "#fb9f3a"
            ],
            [
             0.8888888888888888,
             "#fdca26"
            ],
            [
             1,
             "#f0f921"
            ]
           ],
           "sequentialminus": [
            [
             0,
             "#0d0887"
            ],
            [
             0.1111111111111111,
             "#46039f"
            ],
            [
             0.2222222222222222,
             "#7201a8"
            ],
            [
             0.3333333333333333,
             "#9c179e"
            ],
            [
             0.4444444444444444,
             "#bd3786"
            ],
            [
             0.5555555555555556,
             "#d8576b"
            ],
            [
             0.6666666666666666,
             "#ed7953"
            ],
            [
             0.7777777777777778,
             "#fb9f3a"
            ],
            [
             0.8888888888888888,
             "#fdca26"
            ],
            [
             1,
             "#f0f921"
            ]
           ]
          },
          "colorway": [
           "#636efa",
           "#EF553B",
           "#00cc96",
           "#ab63fa",
           "#FFA15A",
           "#19d3f3",
           "#FF6692",
           "#B6E880",
           "#FF97FF",
           "#FECB52"
          ],
          "font": {
           "color": "#2a3f5f"
          },
          "geo": {
           "bgcolor": "white",
           "lakecolor": "white",
           "landcolor": "#E5ECF6",
           "showlakes": true,
           "showland": true,
           "subunitcolor": "white"
          },
          "hoverlabel": {
           "align": "left"
          },
          "hovermode": "closest",
          "mapbox": {
           "style": "light"
          },
          "paper_bgcolor": "white",
          "plot_bgcolor": "#E5ECF6",
          "polar": {
           "angularaxis": {
            "gridcolor": "white",
            "linecolor": "white",
            "ticks": ""
           },
           "bgcolor": "#E5ECF6",
           "radialaxis": {
            "gridcolor": "white",
            "linecolor": "white",
            "ticks": ""
           }
          },
          "scene": {
           "xaxis": {
            "backgroundcolor": "#E5ECF6",
            "gridcolor": "white",
            "gridwidth": 2,
            "linecolor": "white",
            "showbackground": true,
            "ticks": "",
            "zerolinecolor": "white"
           },
           "yaxis": {
            "backgroundcolor": "#E5ECF6",
            "gridcolor": "white",
            "gridwidth": 2,
            "linecolor": "white",
            "showbackground": true,
            "ticks": "",
            "zerolinecolor": "white"
           },
           "zaxis": {
            "backgroundcolor": "#E5ECF6",
            "gridcolor": "white",
            "gridwidth": 2,
            "linecolor": "white",
            "showbackground": true,
            "ticks": "",
            "zerolinecolor": "white"
           }
          },
          "shapedefaults": {
           "line": {
            "color": "#2a3f5f"
           }
          },
          "ternary": {
           "aaxis": {
            "gridcolor": "white",
            "linecolor": "white",
            "ticks": ""
           },
           "baxis": {
            "gridcolor": "white",
            "linecolor": "white",
            "ticks": ""
           },
           "bgcolor": "#E5ECF6",
           "caxis": {
            "gridcolor": "white",
            "linecolor": "white",
            "ticks": ""
           }
          },
          "title": {
           "x": 0.05
          },
          "xaxis": {
           "automargin": true,
           "gridcolor": "white",
           "linecolor": "white",
           "ticks": "",
           "title": {
            "standoff": 15
           },
           "zerolinecolor": "white",
           "zerolinewidth": 2
          },
          "yaxis": {
           "automargin": true,
           "gridcolor": "white",
           "linecolor": "white",
           "ticks": "",
           "title": {
            "standoff": 15
           },
           "zerolinecolor": "white",
           "zerolinewidth": 2
          }
         }
        },
        "width": 1000
       }
      }
     },
     "metadata": {},
     "output_type": "display_data"
    }
   ],
   "source": [
    "fig = go.Figure(data=[go.Sankey(\n",
    "    valueformat = \".0f\",\n",
    "    valuesuffix = \" cells\",\n",
    "    node = dict(\n",
    "      pad = 50,\n",
    "      thickness = 20,\n",
    "      line = dict(color = \"black\", width = 1),\n",
    "      label = label_list,\n",
    "      color = colors_list\n",
    "    ),\n",
    "    link = dict(\n",
    "      source = source_list,\n",
    "      target = target_list,\n",
    "      value = value_list,\n",
    "      color = colors_list\n",
    "    ))],\n",
    "    layout = dict(\n",
    "      height = 1000,\n",
    "      width = 1000\n",
    "    ),\n",
    ")\n",
    "fig.show()"
   ]
  }
 ],
 "metadata": {
  "kernelspec": {
   "display_name": "napari-sparrow",
   "language": "python",
   "name": "napari-sparrow"
  },
  "language_info": {
   "codemirror_mode": {
    "name": "ipython",
    "version": 3
   },
   "file_extension": ".py",
   "mimetype": "text/x-python",
   "name": "python",
   "nbconvert_exporter": "python",
   "pygments_lexer": "ipython3",
   "version": "3.10.8"
  },
  "orig_nbformat": 4
 },
 "nbformat": 4,
 "nbformat_minor": 2
}
