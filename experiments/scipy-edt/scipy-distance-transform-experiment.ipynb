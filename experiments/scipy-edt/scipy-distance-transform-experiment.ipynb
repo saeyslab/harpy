{
 "cells": [
  {
   "cell_type": "markdown",
   "id": "40631f09-bb2b-4c76-aa0e-4b17e8abb559",
   "metadata": {},
   "source": [
    "# Assigning transcripts to cells using the Euclidean Distance Transform\n",
    "Frank Vernaillen, July 2022"
   ]
  },
  {
   "cell_type": "markdown",
   "id": "2be173e7-0b72-402c-b2a5-210aa72cfea7",
   "metadata": {},
   "source": [
    "This notebook explores an approach of assigning transcripts detected in a spatial transcriptomics experiment to the nearest cell.\n",
    "\n",
    "Only the cells' nuclei were detected, so the precise extent of each cell is unknown. For the transcripts their (x, y) position is known. The cell nuclei were segmented and this segmentation is available as a labels image where all pixels belonging to a certain nucleus have the same value, which is unique per nucleus.\n",
    "\n",
    "Since thousands of nuclei are detected and hundreds of thousands of transcripts, brute force calculation of the distance of each transcript to the closest nucleus pixel is computationally prohibitive. Instead, we first calculate the Euclidean Distance Transform (EDT) of the nucleus labels image using an EDT implementation which, next to the distance transform image (which we do not need), also returns for each input pixel the coordinates of the closest nucleus pixel. Once the EDT is generated, this allows us to create an image where each pixel value is the identity of the closest nucleus. A simple lookup of transcript positions (x, y) in this image yields the identity of the closest cell. So after EDT construction, finding the closest cell for a given transcript becomes an 𝒪(1) operation."
   ]
  },
  {
   "cell_type": "markdown",
   "id": "e8dcf366-09c5-4906-a150-75c8d511c626",
   "metadata": {},
   "source": [
    "## Data"
   ]
  },
  {
   "cell_type": "markdown",
   "id": "250a1749-a0f0-45cb-9920-687697e931f8",
   "metadata": {},
   "source": [
    "For this notebook we need an image with the labels of the segmented nuclei, and the text file with the transcript coordinates."
   ]
  },
  {
   "cell_type": "code",
   "execution_count": null,
   "id": "504b437d-da38-4622-8404-f97edf5e0c49",
   "metadata": {},
   "outputs": [],
   "source": [
    "labels_file = r\"E:\\Frank\\napari-sparrow\\experiments\\scipy-edt\\04032022MartinLiver2_W0A1_DAPI-quicklabels.tiff\"\n",
    "transcripts_file = r\"E:\\Frank\\napari-sparrow\\experiments\\scipy-edt\\04032022MartinLiver2_W0A1_results.txt\""
   ]
  },
  {
   "cell_type": "markdown",
   "id": "e2fb9db4-2ec6-46b2-ae3a-7a02ec9b5e2b",
   "metadata": {
    "tags": []
   },
   "source": [
    "## Imports"
   ]
  },
  {
   "cell_type": "code",
   "execution_count": null,
   "id": "88dd30d1-e831-4adc-ac54-e61500115b43",
   "metadata": {
    "tags": []
   },
   "outputs": [],
   "source": [
    "import matplotlib.pyplot as plt\n",
    "import numpy as np\n",
    "import pandas as pd\n",
    "import scipy.ndimage\n",
    "import tifffile"
   ]
  },
  {
   "cell_type": "markdown",
   "id": "32286230-0d24-4f93-b4a3-4107f336c515",
   "metadata": {},
   "source": [
    "## Read nuclei segmentation"
   ]
  },
  {
   "cell_type": "code",
   "execution_count": null,
   "id": "0cc9f87d-d26d-4f2e-8c33-f44525de8aea",
   "metadata": {},
   "outputs": [],
   "source": [
    "labels = tifffile.imread(labels_file)"
   ]
  },
  {
   "cell_type": "markdown",
   "id": "47e4f97d-317f-4124-9659-27eef0774137",
   "metadata": {},
   "source": [
    "## Calculate Euclidean Distance Transform (EDT)"
   ]
  },
  {
   "cell_type": "markdown",
   "id": "58baea18-3404-4e15-92b9-0e478a2464d2",
   "metadata": {},
   "source": [
    "We need an EDT implementation which not only calculates the distance transform itself, but also returns the closest \"feature\" (=nucleus) pixel. The scipy implementation has this [functionality](https://docs.scipy.org/doc/scipy/reference/generated/scipy.ndimage.distance_transform_edt.html).\n",
    "\n",
    "The OpenCV implementation can also return the closest pixel, but it seems that in that case the distance transform is not exact. The [documentation](https://docs.opencv.org/4.6.0/d7/d1b/group__imgproc__misc.html#ga8a0b7fdfcb7a13dde018988ba3a43042) is not entirely clear about this though.\n",
    "\n",
    "The Scipy implementation can handle the sizes of images we need for Resolve experiments (~15000 x 15000) quite well. For experiments where the images are significantly larger, like for Vizgen experiment, we may run into memory issues. Ideally we would like to use a dask implementation of EDT, both for handling large image sizes, and for its parallelism, but unfortunately [no such dask implementation](https://image.dask.org/en/latest/coverage.html) exists at this time."
   ]
  },
  {
   "cell_type": "code",
   "execution_count": null,
   "id": "d0450c91-d79d-4545-a7be-a0c050153303",
   "metadata": {},
   "outputs": [],
   "source": [
    "def calculate_edt(labels):\n",
    "    \"\"\"Calculate the Euclidean Distance Transform (EDT) of the labels input image\"\"\"\n",
    "    labels_binary = (labels == 0).astype(np.uint8)\n",
    "\n",
    "    edt_distances, edt_indices = scipy.ndimage.distance_transform_edt(\n",
    "        labels_binary, return_distances=True, return_indices=True\n",
    "    )\n",
    "\n",
    "    # The returned 'edt_indices' are the coordinates of the closest nucleus pixel.\n",
    "    # So for any pixel (i,j) the closest nucleus pixel is given by (edt_indices[0][i,j], edt_indices[1][i,j]).\n",
    "    edt_labels = labels[edt_indices[0], edt_indices[1]]\n",
    "\n",
    "    return edt_labels, edt_distances, labels_binary"
   ]
  },
  {
   "cell_type": "markdown",
   "id": "d9dd40ff-cf3b-410e-bc43-fedc1be6069b",
   "metadata": {},
   "source": [
    "Calculate the EDT from the labels image with the nuclei."
   ]
  },
  {
   "cell_type": "code",
   "execution_count": null,
   "id": "1d399874-274f-4999-b473-2c5690e5831e",
   "metadata": {},
   "outputs": [],
   "source": [
    "%%time\n",
    "edt_labels, edt_distances, labels_binary = calculate_edt(labels)"
   ]
  },
  {
   "cell_type": "code",
   "execution_count": null,
   "id": "a6820459-cff1-4d8a-9a6e-f11e8afe7a40",
   "metadata": {},
   "outputs": [],
   "source": [
    "print(f\"Number of nuclei: {np.max(labels)}\")"
   ]
  },
  {
   "cell_type": "code",
   "execution_count": null,
   "id": "ce7cec3f-f7cc-4c1c-8fa2-5d31c7ce4fc0",
   "metadata": {},
   "outputs": [],
   "source": [
    "def display_edt_result(labels, binarized_labels, edt_distances, edt_labels):\n",
    "    # Get range of pixel values, to get consistent colormap for labels and edt_labels.\n",
    "    vmin = np.min(edt_labels)\n",
    "    vmax = np.max(edt_labels)\n",
    "\n",
    "    fig, axs = plt.subplots(2, 2, figsize=(10, 10))\n",
    "    axs[0, 0].imshow(labels, vmin=vmin, vmax=vmax, interpolation=\"nearest\")\n",
    "    axs[0, 1].imshow(binarized_labels, cmap=\"binary_r\", interpolation=\"nearest\")\n",
    "    axs[1, 0].imshow(edt_labels, vmin=vmin, vmax=vmax, interpolation=\"nearest\")\n",
    "    axs[1, 1].imshow(edt_distances, cmap=\"binary_r\", interpolation=\"nearest\")\n",
    "    fig.tight_layout()\n",
    "    plt.show()"
   ]
  },
  {
   "cell_type": "code",
   "execution_count": null,
   "id": "5426ffdf-1635-41d7-be80-7d40e44f310c",
   "metadata": {},
   "outputs": [],
   "source": [
    "# Show Euclidean Distance Transform (EDT) result\n",
    "display_edt_result(labels, labels_binary, edt_distances, edt_labels)"
   ]
  },
  {
   "cell_type": "code",
   "execution_count": null,
   "id": "1a397fcb-d4a1-4ec4-a821-b9f7164081d3",
   "metadata": {},
   "outputs": [],
   "source": [
    "# Show close-up Euclidean Distance Transform (EDT) result of bottom right corner\n",
    "w = 1000\n",
    "display_edt_result(\n",
    "    labels[-w:, -w:],\n",
    "    labels_binary[-w:, -w:],\n",
    "    edt_distances[-w:, -w:],\n",
    "    edt_labels[-w:, -w:],\n",
    ")"
   ]
  },
  {
   "cell_type": "markdown",
   "id": "b357b879-bab9-42ba-bf07-8bda8503d5aa",
   "metadata": {},
   "source": [
    "## Read transcripts"
   ]
  },
  {
   "cell_type": "markdown",
   "id": "1422e1df-03d5-4b34-b1fb-29e15abf31a3",
   "metadata": {},
   "source": [
    "Let's read the transcript information in a pandas dataframe."
   ]
  },
  {
   "cell_type": "code",
   "execution_count": null,
   "id": "032945b9-9fef-4722-8c64-30ced4100935",
   "metadata": {},
   "outputs": [],
   "source": [
    "df = pd.read_csv(\n",
    "    transcripts_file,\n",
    "    delimiter=\"\\t\",\n",
    "    header=None,\n",
    "    usecols=[0, 1, 2, 3],\n",
    "    names=[\"x\", \"y\", \"z\", \"gene\"],\n",
    ")\n",
    "\n",
    "print(f\"Number of transcripts: {df.shape[0]}\")"
   ]
  },
  {
   "cell_type": "markdown",
   "id": "a8b1766b-eee7-4f3a-82b0-59df2b0915aa",
   "metadata": {},
   "source": [
    "## Assign transcripts to cells\n",
    "This can now be done in 𝒪(1) using the labels obtained with the EDT."
   ]
  },
  {
   "cell_type": "code",
   "execution_count": null,
   "id": "1150ed4d-1d15-4ece-97f7-8ceaeea21121",
   "metadata": {},
   "outputs": [],
   "source": [
    "transcript_coords = df[[\"y\", \"x\"]].to_numpy()"
   ]
  },
  {
   "cell_type": "markdown",
   "id": "a42df71b-f8eb-4675-8672-d1e9359c1767",
   "metadata": {},
   "source": [
    "We'll write a trivial function to look up transcript coordinates in the cell labels image created via the EDT."
   ]
  },
  {
   "cell_type": "code",
   "execution_count": null,
   "id": "41aaa576-bfef-49eb-8d75-c0e8a5157963",
   "metadata": {},
   "outputs": [],
   "source": [
    "def assign_transcripts_to_cells(transcript_coords, edt_labels):\n",
    "    ii = transcript_coords[:, 0]\n",
    "    jj = transcript_coords[:, 1]\n",
    "    cell_ids = edt_labels[ii, jj]\n",
    "    return cell_ids"
   ]
  },
  {
   "cell_type": "markdown",
   "id": "61a46d3b-c70d-483d-b646-a4c9a795164f",
   "metadata": {},
   "source": [
    "Let us now assign the transcripts to the closest nucleus. Thanks to the EDT this operation now happens instantaneously for all transcripts."
   ]
  },
  {
   "cell_type": "code",
   "execution_count": null,
   "id": "22c80c1e-0727-4a37-a62a-f74eefe47866",
   "metadata": {},
   "outputs": [],
   "source": [
    "%%time\n",
    "cell_ids = assign_transcripts_to_cells(transcript_coords, edt_labels)"
   ]
  },
  {
   "cell_type": "markdown",
   "id": "69b6568d-1317-48cb-95ec-4a0e85fc6e43",
   "metadata": {},
   "source": [
    "Store the cell ID of each transcript in the dataframe."
   ]
  },
  {
   "cell_type": "code",
   "execution_count": null,
   "id": "8246ec80-4148-4f7d-824c-d53b0e528689",
   "metadata": {},
   "outputs": [],
   "source": [
    "df[\"cell_id\"] = cell_ids\n",
    "df"
   ]
  },
  {
   "cell_type": "markdown",
   "id": "21ab81ee-a858-411e-a004-e976c54184fd",
   "metadata": {},
   "source": [
    "## Visualize assignment of transcripts to cells"
   ]
  },
  {
   "cell_type": "markdown",
   "id": "49ccc5a7-90e4-4602-998d-13fd109867b2",
   "metadata": {},
   "source": [
    "First define a function crop() which extract a region from the labels image and the transcripts. We will use it to zoom in on a smaller part of the tissue."
   ]
  },
  {
   "cell_type": "code",
   "execution_count": null,
   "id": "11446701-c85d-4ef2-9e80-7b2eef4fd584",
   "metadata": {},
   "outputs": [],
   "source": [
    "def crop(labels_image, transcripts_dataframe, crop_rect):\n",
    "    toplefty, topleftx, bottomrighty, bottomrightx = tuple(crop_rect)\n",
    "\n",
    "    # Crop labels image\n",
    "    img = labels_image[toplefty:bottomrighty, topleftx:bottomrightx]\n",
    "\n",
    "    # Keep only transcripts inside crop rectangle\n",
    "    df = transcripts_dataframe.copy()\n",
    "    df = df[(df.x >= topleftx) & (df.x < bottomrightx) & (df.y >= toplefty) & (df.y < bottomrighty)]\n",
    "\n",
    "    # Translate transcript coordinates to match cropped labels image coordinates again\n",
    "    df.x = df.x - topleftx\n",
    "    df.y = df.y - toplefty\n",
    "\n",
    "    return img, df"
   ]
  },
  {
   "cell_type": "markdown",
   "id": "f7c8ed30-b78a-4f51-befb-2ad64f71f173",
   "metadata": {},
   "source": [
    "Let's also define a function that can create a matplotlib colormap with random colors. We will use the colormap to assign random colors to cells and their transcripts, so we can visually confirm that transcripts are correctly assigned to nearby cells."
   ]
  },
  {
   "cell_type": "code",
   "execution_count": null,
   "id": "b7f92992-6f27-4ab6-8c03-659fbc216432",
   "metadata": {},
   "outputs": [],
   "source": [
    "def generate_random_colors(size=10240, seed=0):\n",
    "    rng = np.random.default_rng(seed)\n",
    "    colors = rng.random((size, 3))\n",
    "    colors[0, :] = 1  # force first color to be white\n",
    "    return colors"
   ]
  },
  {
   "cell_type": "markdown",
   "id": "38b54a2a-196e-4349-8c81-7746b28d08db",
   "metadata": {},
   "source": [
    "We can now check that our assignment of transcripts to nuclei using the Euclidean Distance Transform (EDT) works as expected."
   ]
  },
  {
   "cell_type": "code",
   "execution_count": null,
   "id": "fe30ae8f-8780-4fae-8174-33c6ef286c26",
   "metadata": {},
   "outputs": [],
   "source": [
    "# Crop a closeup region\n",
    "crop_rect = [8700, 4700, 10400, 6400]\n",
    "cropped_labels, cropped_df = crop(labels, df, crop_rect)\n",
    "\n",
    "# Find labels range for colormap, needed to get imshow() and scatter() use the same colors\n",
    "vmin = 0\n",
    "vmax = np.max(cropped_df.cell_id)\n",
    "\n",
    "# Make colormaps, slightly different one for the labels so we can still see the transcripts on top of them\n",
    "colors = generate_random_colors(\n",
    "    size=2 * vmax, seed=1\n",
    ")  # pick a large enough colormap size so that nearby cell ID values still get mapped to different colors\n",
    "labels_cmap = plt.cm.colors.ListedColormap(np.vstack((colors[0, :], colors[1:,] * 0.8)))\n",
    "transcripts_cmap = plt.cm.colors.ListedColormap(colors)\n",
    "\n",
    "# Plot transcripts and nuclei\n",
    "plt.figure(figsize=(15, 15))\n",
    "plt.imshow(cropped_labels, cmap=labels_cmap, interpolation=\"nearest\", vmin=vmin, vmax=vmax)\n",
    "plt.scatter(\n",
    "    cropped_df.x,\n",
    "    cropped_df.y,\n",
    "    c=cropped_df.cell_id,\n",
    "    s=0.5,\n",
    "    cmap=transcripts_cmap,\n",
    "    vmin=vmin,\n",
    "    vmax=vmax,\n",
    ")\n",
    "plt.show()"
   ]
  },
  {
   "cell_type": "code",
   "execution_count": null,
   "id": "d7c138ad-8ff0-468b-a260-e7bebf6eaf1b",
   "metadata": {},
   "outputs": [],
   "source": []
  }
 ],
 "metadata": {
  "kernelspec": {
   "display_name": "Python 3 (ipykernel)",
   "language": "python",
   "name": "python3"
  },
  "language_info": {
   "codemirror_mode": {
    "name": "ipython",
    "version": 3
   },
   "file_extension": ".py",
   "mimetype": "text/x-python",
   "name": "python",
   "nbconvert_exporter": "python",
   "pygments_lexer": "ipython3",
   "version": "3.9.7"
  }
 },
 "nbformat": 4,
 "nbformat_minor": 5
}
